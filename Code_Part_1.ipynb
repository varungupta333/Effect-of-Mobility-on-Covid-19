{
 "cells": [
  {
   "cell_type": "code",
   "execution_count": 1,
   "metadata": {},
   "outputs": [],
   "source": [
    "import pandas as pd\n",
    "import numpy as np\n",
    "import seaborn as sns\n",
    "from matplotlib import pyplot as plt\n",
    "from sklearn.preprocessing import LabelEncoder\n",
    "from sklearn.impute import SimpleImputer\n",
    "from sklearn.preprocessing import OneHotEncoder\n",
    "from sklearn.compose import ColumnTransformer\n",
    "from sklearn.pipeline import Pipeline\n",
    "from sklearn.model_selection import cross_val_score\n",
    "from sklearn.ensemble import RandomForestClassifier\n",
    "from sklearn.ensemble import GradientBoostingClassifier\n",
    "from sklearn.model_selection import GridSearchCV"
   ]
  },
  {
   "cell_type": "code",
   "execution_count": 2,
   "metadata": {},
   "outputs": [
    {
     "name": "stdout",
     "output_type": "stream",
     "text": [
      "(16, 16)\n"
     ]
    },
    {
     "data": {
      "text/html": [
       "<div>\n",
       "<style scoped>\n",
       "    .dataframe tbody tr th:only-of-type {\n",
       "        vertical-align: middle;\n",
       "    }\n",
       "\n",
       "    .dataframe tbody tr th {\n",
       "        vertical-align: top;\n",
       "    }\n",
       "\n",
       "    .dataframe thead th {\n",
       "        text-align: right;\n",
       "    }\n",
       "</style>\n",
       "<table border=\"1\" class=\"dataframe\">\n",
       "  <thead>\n",
       "    <tr style=\"text-align: right;\">\n",
       "      <th></th>\n",
       "      <th>X1</th>\n",
       "      <th>X2</th>\n",
       "      <th>X3</th>\n",
       "      <th>X4</th>\n",
       "      <th>X5</th>\n",
       "      <th>X6</th>\n",
       "      <th>X7</th>\n",
       "      <th>X8</th>\n",
       "      <th>X9</th>\n",
       "      <th>X10</th>\n",
       "      <th>X11</th>\n",
       "      <th>X12</th>\n",
       "      <th>X13</th>\n",
       "      <th>X14</th>\n",
       "      <th>X15</th>\n",
       "      <th>X16</th>\n",
       "    </tr>\n",
       "  </thead>\n",
       "  <tbody>\n",
       "    <tr>\n",
       "      <th>0</th>\n",
       "      <td>2.353049</td>\n",
       "      <td>1.591936</td>\n",
       "      <td>0.816546</td>\n",
       "      <td>0.590494</td>\n",
       "      <td>1.117237</td>\n",
       "      <td>1.456552</td>\n",
       "      <td>1.234776</td>\n",
       "      <td>0.884875</td>\n",
       "      <td>0.504736</td>\n",
       "      <td>0.338567</td>\n",
       "      <td>0.411108</td>\n",
       "      <td>0.407958</td>\n",
       "      <td>0.225969</td>\n",
       "      <td>0.151331</td>\n",
       "      <td>0.071379</td>\n",
       "      <td>0.033979</td>\n",
       "    </tr>\n",
       "    <tr>\n",
       "      <th>1</th>\n",
       "      <td>1.397686</td>\n",
       "      <td>10.639846</td>\n",
       "      <td>2.220425</td>\n",
       "      <td>0.693464</td>\n",
       "      <td>0.477456</td>\n",
       "      <td>1.188495</td>\n",
       "      <td>1.349462</td>\n",
       "      <td>1.127641</td>\n",
       "      <td>0.782097</td>\n",
       "      <td>0.361263</td>\n",
       "      <td>0.279587</td>\n",
       "      <td>0.312670</td>\n",
       "      <td>0.221452</td>\n",
       "      <td>0.138872</td>\n",
       "      <td>0.056629</td>\n",
       "      <td>0.034582</td>\n",
       "    </tr>\n",
       "    <tr>\n",
       "      <th>2</th>\n",
       "      <td>0.544502</td>\n",
       "      <td>3.377579</td>\n",
       "      <td>11.262449</td>\n",
       "      <td>1.598397</td>\n",
       "      <td>0.720401</td>\n",
       "      <td>0.639215</td>\n",
       "      <td>0.880855</td>\n",
       "      <td>1.047802</td>\n",
       "      <td>0.917897</td>\n",
       "      <td>0.500448</td>\n",
       "      <td>0.289412</td>\n",
       "      <td>0.179894</td>\n",
       "      <td>0.111907</td>\n",
       "      <td>0.112861</td>\n",
       "      <td>0.066998</td>\n",
       "      <td>0.042690</td>\n",
       "    </tr>\n",
       "    <tr>\n",
       "      <th>3</th>\n",
       "      <td>0.341783</td>\n",
       "      <td>0.834409</td>\n",
       "      <td>4.577042</td>\n",
       "      <td>13.739771</td>\n",
       "      <td>2.419991</td>\n",
       "      <td>1.084007</td>\n",
       "      <td>0.748040</td>\n",
       "      <td>1.061100</td>\n",
       "      <td>1.025873</td>\n",
       "      <td>0.806560</td>\n",
       "      <td>0.437937</td>\n",
       "      <td>0.226014</td>\n",
       "      <td>0.109983</td>\n",
       "      <td>0.071664</td>\n",
       "      <td>0.035127</td>\n",
       "      <td>0.019968</td>\n",
       "    </tr>\n",
       "    <tr>\n",
       "      <th>4</th>\n",
       "      <td>0.617309</td>\n",
       "      <td>0.486346</td>\n",
       "      <td>0.606158</td>\n",
       "      <td>4.206379</td>\n",
       "      <td>5.396941</td>\n",
       "      <td>2.425324</td>\n",
       "      <td>1.318520</td>\n",
       "      <td>1.035971</td>\n",
       "      <td>0.880711</td>\n",
       "      <td>0.885080</td>\n",
       "      <td>0.621726</td>\n",
       "      <td>0.387669</td>\n",
       "      <td>0.135640</td>\n",
       "      <td>0.051803</td>\n",
       "      <td>0.043630</td>\n",
       "      <td>0.030517</td>\n",
       "    </tr>\n",
       "  </tbody>\n",
       "</table>\n",
       "</div>"
      ],
      "text/plain": [
       "         X1         X2         X3         X4        X5        X6        X7  \\\n",
       "0  2.353049   1.591936   0.816546   0.590494  1.117237  1.456552  1.234776   \n",
       "1  1.397686  10.639846   2.220425   0.693464  0.477456  1.188495  1.349462   \n",
       "2  0.544502   3.377579  11.262449   1.598397  0.720401  0.639215  0.880855   \n",
       "3  0.341783   0.834409   4.577042  13.739771  2.419991  1.084007  0.748040   \n",
       "4  0.617309   0.486346   0.606158   4.206379  5.396941  2.425324  1.318520   \n",
       "\n",
       "         X8        X9       X10       X11       X12       X13       X14  \\\n",
       "0  0.884875  0.504736  0.338567  0.411108  0.407958  0.225969  0.151331   \n",
       "1  1.127641  0.782097  0.361263  0.279587  0.312670  0.221452  0.138872   \n",
       "2  1.047802  0.917897  0.500448  0.289412  0.179894  0.111907  0.112861   \n",
       "3  1.061100  1.025873  0.806560  0.437937  0.226014  0.109983  0.071664   \n",
       "4  1.035971  0.880711  0.885080  0.621726  0.387669  0.135640  0.051803   \n",
       "\n",
       "        X15       X16  \n",
       "0  0.071379  0.033979  \n",
       "1  0.056629  0.034582  \n",
       "2  0.066998  0.042690  \n",
       "3  0.035127  0.019968  \n",
       "4  0.043630  0.030517  "
      ]
     },
     "execution_count": 2,
     "metadata": {},
     "output_type": "execute_result"
    }
   ],
   "source": [
    "location_data = pd.read_csv(r\"C:\\Users\\varun\\Desktop\\Udacity\\UGP\\alllocations.csv\")\n",
    "home_data = pd.read_csv(r\"C:\\Users\\varun\\Desktop\\Udacity\\UGP\\home.csv\")\n",
    "school_data = pd.read_csv(r\"C:\\Users\\varun\\Desktop\\Udacity\\UGP\\school.csv\")\n",
    "work_data = pd.read_csv(r\"C:\\Users\\varun\\Desktop\\Udacity\\UGP\\work.csv\")\n",
    "other_data = pd.read_csv(r\"C:\\Users\\varun\\Desktop\\Udacity\\UGP\\others.csv\")\n",
    "print(location_data.shape)\n",
    "location_data.head()"
   ]
  },
  {
   "cell_type": "markdown",
   "metadata": {},
   "source": [
    "After loading the data lets explore whether this baseline matrix is capturing the trends that are found in the Indian society or not."
   ]
  },
  {
   "cell_type": "markdown",
   "metadata": {},
   "source": [
    "# Data Exploration"
   ]
  },
  {
   "cell_type": "markdown",
   "metadata": {},
   "source": [
    "### School Matrix"
   ]
  },
  {
   "cell_type": "code",
   "execution_count": 3,
   "metadata": {},
   "outputs": [
    {
     "data": {
      "text/plain": [
       "<matplotlib.axes._subplots.AxesSubplot at 0x1f3714ac508>"
      ]
     },
     "execution_count": 3,
     "metadata": {},
     "output_type": "execute_result"
    },
    {
     "data": {
      "image/png": "[encoded data removed]",
      "text/plain": [
       "<Figure size 432x288 with 2 Axes>"
      ]
     },
     "metadata": {
      "needs_background": "light"
     },
     "output_type": "display_data"
    }
   ],
   "source": [
    "sns.heatmap(school_data, cmap=\"YlGnBu\")"
   ]
  },
  {
   "cell_type": "markdown",
   "metadata": {},
   "source": [
    "Huge amount of interaction is seen within the students who are of almost the same age. This is seen for students between 3 - 18 years of age"
   ]
  },
  {
   "cell_type": "markdown",
   "metadata": {},
   "source": [
    "## Home Matrix"
   ]
  },
  {
   "cell_type": "code",
   "execution_count": 4,
   "metadata": {},
   "outputs": [
    {
     "data": {
      "text/plain": [
       "<matplotlib.axes._subplots.AxesSubplot at 0x1f371d10e88>"
      ]
     },
     "execution_count": 4,
     "metadata": {},
     "output_type": "execute_result"
    },
    {
     "data": {
      "image/png": "[encoded data removed]",
      "text/plain": [
       "<Figure size 432x288 with 2 Axes>"
      ]
     },
     "metadata": {
      "needs_background": "light"
     },
     "output_type": "display_data"
    }
   ],
   "source": [
    "sns.heatmap(home_data, cmap=\"YlGnBu\")"
   ]
  },
  {
   "cell_type": "markdown",
   "metadata": {},
   "source": [
    "The multiple dominant diagnols are a reflection of the culture of joint family in India. Types of interactions widely noticed - <br/>\n",
    "• Parent - Parent <br/>\n",
    "• Parent - Child <br/>\n",
    "• Child - Child <br/>\n",
    "• Grandparent - Child <br/>\n",
    "These include the majors interactions and is quite visible throught the dominant diagonals\n"
   ]
  },
  {
   "cell_type": "markdown",
   "metadata": {},
   "source": [
    "## Work Matrix"
   ]
  },
  {
   "cell_type": "code",
   "execution_count": 5,
   "metadata": {},
   "outputs": [
    {
     "data": {
      "text/plain": [
       "<matplotlib.axes._subplots.AxesSubplot at 0x1f371dc4288>"
      ]
     },
     "execution_count": 5,
     "metadata": {},
     "output_type": "execute_result"
    },
    {
     "data": {
      "image/png": "[encoded data removed]",
      "text/plain": [
       "<Figure size 432x288 with 2 Axes>"
      ]
     },
     "metadata": {
      "needs_background": "light"
     },
     "output_type": "display_data"
    }
   ],
   "source": [
    "sns.heatmap(work_data, cmap=\"YlGnBu\")"
   ]
  },
  {
   "cell_type": "markdown",
   "metadata": {},
   "source": [
    "A central correlation is to be expected from the working class with a dominant diagnol."
   ]
  },
  {
   "cell_type": "code",
   "execution_count": 6,
   "metadata": {},
   "outputs": [
    {
     "data": {
      "text/plain": [
       "<matplotlib.axes._subplots.AxesSubplot at 0x1f371eef388>"
      ]
     },
     "execution_count": 6,
     "metadata": {},
     "output_type": "execute_result"
    },
    {
     "data": {
      "image/png": "[encoded data removed]",
      "text/plain": [
       "<Figure size 432x288 with 2 Axes>"
      ]
     },
     "metadata": {
      "needs_background": "light"
     },
     "output_type": "display_data"
    }
   ],
   "source": [
    "sns.heatmap(location_data, cmap=\"YlGnBu\")"
   ]
  },
  {
   "cell_type": "code",
   "execution_count": 9,
   "metadata": {},
   "outputs": [
    {
     "name": "stdout",
     "output_type": "stream",
     "text": [
      "(21, 3)\n"
     ]
    }
   ],
   "source": [
    "density_data = pd.read_csv(r\"C:\\Users\\varun\\Desktop\\Udacity\\UGP\\population.csv\")\n",
    "print(density_data.shape)"
   ]
  },
  {
   "cell_type": "code",
   "execution_count": 10,
   "metadata": {},
   "outputs": [
    {
     "data": {
      "text/html": [
       "<div>\n",
       "<style scoped>\n",
       "    .dataframe tbody tr th:only-of-type {\n",
       "        vertical-align: middle;\n",
       "    }\n",
       "\n",
       "    .dataframe tbody tr th {\n",
       "        vertical-align: top;\n",
       "    }\n",
       "\n",
       "    .dataframe thead th {\n",
       "        text-align: right;\n",
       "    }\n",
       "</style>\n",
       "<table border=\"1\" class=\"dataframe\">\n",
       "  <thead>\n",
       "    <tr style=\"text-align: right;\">\n",
       "      <th></th>\n",
       "      <th>Age</th>\n",
       "      <th>M</th>\n",
       "      <th>F</th>\n",
       "    </tr>\n",
       "  </thead>\n",
       "  <tbody>\n",
       "    <tr>\n",
       "      <th>0</th>\n",
       "      <td>0-4</td>\n",
       "      <td>61184852</td>\n",
       "      <td>55596970</td>\n",
       "    </tr>\n",
       "    <tr>\n",
       "      <th>1</th>\n",
       "      <td>5- 9</td>\n",
       "      <td>62910580</td>\n",
       "      <td>57039427</td>\n",
       "    </tr>\n",
       "    <tr>\n",
       "      <th>2</th>\n",
       "      <td>10 - 14</td>\n",
       "      <td>66812183</td>\n",
       "      <td>60172728</td>\n",
       "    </tr>\n",
       "    <tr>\n",
       "      <th>3</th>\n",
       "      <td>15-19</td>\n",
       "      <td>66525043</td>\n",
       "      <td>59164382</td>\n",
       "    </tr>\n",
       "    <tr>\n",
       "      <th>4</th>\n",
       "      <td>20-24</td>\n",
       "      <td>64478247</td>\n",
       "      <td>57319089</td>\n",
       "    </tr>\n",
       "  </tbody>\n",
       "</table>\n",
       "</div>"
      ],
      "text/plain": [
       "        Age         M         F\n",
       "0       0-4  61184852  55596970\n",
       "1      5- 9  62910580  57039427\n",
       "2   10 - 14  66812183  60172728\n",
       "3     15-19  66525043  59164382\n",
       "4     20-24  64478247  57319089"
      ]
     },
     "execution_count": 10,
     "metadata": {},
     "output_type": "execute_result"
    }
   ],
   "source": [
    "density_data.head()"
   ]
  },
  {
   "cell_type": "code",
   "execution_count": 21,
   "metadata": {},
   "outputs": [
    {
     "data": {
      "text/plain": [
       "Age    object\n",
       "M       int32\n",
       "F       int32\n",
       "dtype: object"
      ]
     },
     "execution_count": 21,
     "metadata": {},
     "output_type": "execute_result"
    }
   ],
   "source": [
    "density_data.dtypes"
   ]
  },
  {
   "cell_type": "code",
   "execution_count": 74,
   "metadata": {
    "scrolled": true
   },
   "outputs": [
    {
     "data": {
      "text/plain": [
       "<matplotlib.axes._subplots.AxesSubplot at 0x1f37a53c188>"
      ]
     },
     "execution_count": 74,
     "metadata": {},
     "output_type": "execute_result"
    },
    {
     "data": {
      "image/png": "[encoded data removed]",
      "text/plain": [
       "<Figure size 1080x504 with 1 Axes>"
      ]
     },
     "metadata": {
      "needs_background": "light"
     },
     "output_type": "display_data"
    }
   ],
   "source": [
    "plt.figure(figsize=(15,7))\n",
    "sns.barplot(x = \"Age\", y = \"M\", data = density_data)"
   ]
  },
  {
   "cell_type": "code",
   "execution_count": 75,
   "metadata": {
    "scrolled": true
   },
   "outputs": [
    {
     "data": {
      "text/plain": [
       "<matplotlib.axes._subplots.AxesSubplot at 0x1f37bbd1308>"
      ]
     },
     "execution_count": 75,
     "metadata": {},
     "output_type": "execute_result"
    },
    {
     "data": {
      "image/png": "[encoded data removed]",
      "text/plain": [
       "<Figure size 1080x504 with 1 Axes>"
      ]
     },
     "metadata": {
      "needs_background": "light"
     },
     "output_type": "display_data"
    }
   ],
   "source": [
    "plt.figure(figsize=(15,7))\n",
    "sns.barplot(x = \"Age\", y = \"F\", data = density_data)"
   ]
  },
  {
   "cell_type": "markdown",
   "metadata": {},
   "source": [
    "The above values can be used with the contact matrix so extract the baseline but the major problem here is that the baseline obainted even after reducing the bins will be global and we have the mobility data which is regional. Here we can opt for two possibilies mentioned below - <br/>\n",
    "• If we somehow find a dataset for the country level - The major advantage here will be that it is easier to get the correlation with the value of Reproduction number but at a later stage it will be difficult to incorporate it in the model. <br/>\n",
    "• Other approach is the same as we have discussed earlier where we try to determine a function to get the baseline for each of the regional place thorugh some kind of population density function."
   ]
  },
  {
   "cell_type": "markdown",
   "metadata": {},
   "source": [
    "# Model using Contact Matrix"
   ]
  },
  {
   "cell_type": "markdown",
   "metadata": {},
   "source": [
    "An introduction how the published paper has used this contact matrix and explain how it is something different from what we are looking forward to in this project."
   ]
  },
  {
   "cell_type": "markdown",
   "metadata": {},
   "source": [
    "$$C_{ij} = C_{ij}^{H} + C_{ij}^{S} + C_{ij}^{W} + C_{ij}^{O}$$"
   ]
  },
  {
   "cell_type": "markdown",
   "metadata": {},
   "source": [
    "$$C_{ij}(t) = C_{ij} - \\beta(t) (C_{ij}^{S} + C_{ij}^{W} + C_{ij}^{O})$$"
   ]
  },
  {
   "cell_type": "markdown",
   "metadata": {},
   "source": [
    "Here beta indicates mobility change over time due to the imposement of certain movement restrictions such as lockdown and reduction in social groups activity."
   ]
  },
  {
   "cell_type": "markdown",
   "metadata": {},
   "source": [
    "The mobility does not explicity affect the change in contact in household because at any time in the day you are assumed to make that many number of contacts in your house irrespective of the public policies."
   ]
  },
  {
   "cell_type": "markdown",
   "metadata": {},
   "source": [
    "Approach - While modeling the reduction in the number of contacts what the paper has done is to use a control function which predicts the reduction with time and the impact with the lifting of the lockdown. We have to approach the statement differently since we are actually trying to model mobility through data and to see the correlation with respect to increase in infectious cases."
   ]
  },
  {
   "cell_type": "markdown",
   "metadata": {},
   "source": [
    "Another interesting equation mentioned in determining contact rates was -"
   ]
  },
  {
   "cell_type": "markdown",
   "metadata": {},
   "source": [
    "$$C_{ij}(t) = C_{ij} - \\beta_{s}(t) C_{ij}^{S} + \\beta_{w}(t) C_{ij}^{W} + \\beta_{o}(t) C_{ij}^{O}$$"
   ]
  },
  {
   "cell_type": "markdown",
   "metadata": {},
   "source": [
    "Since we already have the contact matrix lets see if we can get a mobility time series -"
   ]
  },
  {
   "cell_type": "markdown",
   "metadata": {},
   "source": [
    "# Mobility Time Series"
   ]
  },
  {
   "cell_type": "code",
   "execution_count": 43,
   "metadata": {},
   "outputs": [
    {
     "name": "stdout",
     "output_type": "stream",
     "text": [
      "(345, 4)\n",
      "(345, 4)\n",
      "(345, 4)\n",
      "(345, 4)\n",
      "(345, 4)\n"
     ]
    }
   ],
   "source": [
    "df_grocery = pd.read_csv(r\"C:\\Users\\varun\\Desktop\\Udacity\\UGP\\india\\grocery.csv\")\n",
    "df_park = pd.read_csv(r\"C:\\Users\\varun\\Desktop\\Udacity\\UGP\\india\\parks.csv\")\n",
    "df_recreation = pd.read_csv(r\"C:\\Users\\varun\\Desktop\\Udacity\\UGP\\india\\recreational.csv\")\n",
    "df_residence = pd.read_csv(r\"C:\\Users\\varun\\Desktop\\Udacity\\UGP\\india\\residential.csv\")\n",
    "df_work = pd.read_csv(r\"C:\\Users\\varun\\Desktop\\Udacity\\UGP\\india\\workplace.csv\")\n",
    "print(df_grocery.shape)\n",
    "print(df_park.shape)\n",
    "print(df_recreation.shape)\n",
    "print(df_residence.shape)\n",
    "print(df_work.shape)"
   ]
  },
  {
   "cell_type": "code",
   "execution_count": 50,
   "metadata": {},
   "outputs": [
    {
     "data": {
      "text/html": [
       "<div>\n",
       "<style scoped>\n",
       "    .dataframe tbody tr th:only-of-type {\n",
       "        vertical-align: middle;\n",
       "    }\n",
       "\n",
       "    .dataframe tbody tr th {\n",
       "        vertical-align: top;\n",
       "    }\n",
       "\n",
       "    .dataframe thead th {\n",
       "        text-align: right;\n",
       "    }\n",
       "</style>\n",
       "<table border=\"1\" class=\"dataframe\">\n",
       "  <thead>\n",
       "    <tr style=\"text-align: right;\">\n",
       "      <th></th>\n",
       "      <th>index</th>\n",
       "      <th>Date</th>\n",
       "      <th>percent</th>\n",
       "    </tr>\n",
       "  </thead>\n",
       "  <tbody>\n",
       "    <tr>\n",
       "      <th>0</th>\n",
       "      <td>0</td>\n",
       "      <td>17-02-2020</td>\n",
       "      <td>1.667</td>\n",
       "    </tr>\n",
       "    <tr>\n",
       "      <th>1</th>\n",
       "      <td>1</td>\n",
       "      <td>18-02-2020</td>\n",
       "      <td>1.750</td>\n",
       "    </tr>\n",
       "    <tr>\n",
       "      <th>2</th>\n",
       "      <td>2</td>\n",
       "      <td>19-02-2020</td>\n",
       "      <td>1.800</td>\n",
       "    </tr>\n",
       "    <tr>\n",
       "      <th>3</th>\n",
       "      <td>3</td>\n",
       "      <td>20-02-2020</td>\n",
       "      <td>2.000</td>\n",
       "    </tr>\n",
       "    <tr>\n",
       "      <th>4</th>\n",
       "      <td>4</td>\n",
       "      <td>21-02-2020</td>\n",
       "      <td>1.714</td>\n",
       "    </tr>\n",
       "  </tbody>\n",
       "</table>\n",
       "</div>"
      ],
      "text/plain": [
       "   index        Date  percent\n",
       "0      0  17-02-2020    1.667\n",
       "1      1  18-02-2020    1.750\n",
       "2      2  19-02-2020    1.800\n",
       "3      3  20-02-2020    2.000\n",
       "4      4  21-02-2020    1.714"
      ]
     },
     "execution_count": 50,
     "metadata": {},
     "output_type": "execute_result"
    }
   ],
   "source": [
    "df_grocery.head()"
   ]
  },
  {
   "cell_type": "code",
   "execution_count": 49,
   "metadata": {},
   "outputs": [
    {
     "name": "stdout",
     "output_type": "stream",
     "text": [
      "Done\n"
     ]
    }
   ],
   "source": [
    "df_grocery = df_grocery.drop(columns=['Country', 'Code'])\n",
    "df_grocery = df_grocery.reset_index()\n",
    "df_park = df_park.drop(columns=['Country', 'Code'])\n",
    "df_park = df_park.reset_index()\n",
    "df_recreation = df_recreation.drop(columns=['Country', 'Code'])\n",
    "df_recreation = df_recreation.reset_index()\n",
    "df_residence = df_residence.drop(columns=['Country', 'Code'])\n",
    "df_residence = df_residence.reset_index()\n",
    "df_work = df_work.drop(columns=['Country', 'Code'])\n",
    "df_work = df_work.reset_index()\n",
    "print(\"Done\")"
   ]
  },
  {
   "cell_type": "code",
   "execution_count": 73,
   "metadata": {},
   "outputs": [
    {
     "data": {
      "image/png": "[encoded data removed]",
      "text/plain": [
       "<Figure size 1440x720 with 1 Axes>"
      ]
     },
     "metadata": {
      "needs_background": "light"
     },
     "output_type": "display_data"
    }
   ],
   "source": [
    "plt.figure(figsize=(20,10))\n",
    "g = sns.lineplot(data = df_grocery, x = \"index\", y = \"percent\", label = \"grocery\", linewidth=3.0)\n",
    "g = sns.lineplot(data = df_work, x = \"index\", y = \"Percent\", label = \"work\", linewidth=3.0)\n",
    "g = sns.lineplot(data = df_recreation, x = \"index\", y = \"Percent\", label = \"recreation\", linewidth=3.0)\n",
    "g = sns.lineplot(data = df_residence, x = \"index\", y = \"Percent\", label = \"residence\", linewidth=3.0)\n",
    "g = sns.lineplot(data = df_park, x = \"index\", y = \"Percent\", label = \"park\", linewidth=3.0)\n",
    "g.set(xticklabels=[])\n",
    "g.set(xlabel=\"Time\")\n",
    "g.axhline(0, ls='--')\n",
    "plt.legend(fontsize=20)\n",
    "plt.show()"
   ]
  },
  {
   "cell_type": "markdown",
   "metadata": {},
   "source": [
    "# Python Code"
   ]
  },
  {
   "cell_type": "markdown",
   "metadata": {},
   "source": [
    "Lets try to work on the problem statement for this week wherein we try to accumulate all the contact matrix multiplying with the population of the particular bin and try to estimate a constant and try to model it with population or population density of the place so to see a correlation which we can at later stage utilize to go regionally in indian cities."
   ]
  },
  {
   "cell_type": "code",
   "execution_count": 100,
   "metadata": {},
   "outputs": [],
   "source": [
    "all_df1 = pd.read_excel(r\"C:\\Users\\varun\\Desktop\\Udacity\\UGP\\contact_matrices_152_countries\\MUestimates_all_locations_1.xlsx\", sheet_name = None)\n",
    "all_df2 = pd.read_excel(r\"C:\\Users\\varun\\Desktop\\Udacity\\UGP\\contact_matrices_152_countries\\MUestimates_all_locations_2.xlsx\", sheet_name = None)\n",
    "home_df1 = pd.read_excel(r\"C:\\Users\\varun\\Desktop\\Udacity\\UGP\\contact_matrices_152_countries\\MUestimates_home_1.xlsx\", sheet_name = None)\n",
    "home_df2 = pd.read_excel(r\"C:\\Users\\varun\\Desktop\\Udacity\\UGP\\contact_matrices_152_countries\\MUestimates_home_2.xlsx\", sheet_name = None)\n",
    "other_df1 = pd.read_excel(r\"C:\\Users\\varun\\Desktop\\Udacity\\UGP\\contact_matrices_152_countries\\MUestimates_other_locations_1.xlsx\", sheet_name = None)\n",
    "other_df2 = pd.read_excel(r\"C:\\Users\\varun\\Desktop\\Udacity\\UGP\\contact_matrices_152_countries\\MUestimates_other_locations_2.xlsx\", sheet_name = None)\n",
    "school_df1 = pd.read_excel(r\"C:\\Users\\varun\\Desktop\\Udacity\\UGP\\contact_matrices_152_countries\\MUestimates_school_1.xlsx\", sheet_name = None)\n",
    "school_df2 = pd.read_excel(r\"C:\\Users\\varun\\Desktop\\Udacity\\UGP\\contact_matrices_152_countries\\MUestimates_school_2.xlsx\", sheet_name = None)\n",
    "work_df1 = pd.read_excel(r\"C:\\Users\\varun\\Desktop\\Udacity\\UGP\\contact_matrices_152_countries\\MUestimates_work_1.xlsx\", sheet_name = None)\n",
    "work_df2 = pd.read_excel(r\"C:\\Users\\varun\\Desktop\\Udacity\\UGP\\contact_matrices_152_countries\\MUestimates_work_2.xlsx\", sheet_name = None)\n",
    "country_n1 = list(all_df1.keys())\n",
    "country_n2 = list(all_df2.keys())"
   ]
  },
  {
   "cell_type": "code",
   "execution_count": 101,
   "metadata": {},
   "outputs": [
    {
     "data": {
      "text/plain": [
       "Index(['X1', 'X2', 'X3', 'X4', 'X5', 'X6', 'X7', 'X8', 'X9', 'X10', 'X11',\n",
       "       'X12', 'X13', 'X14', 'X15', 'X16'],\n",
       "      dtype='object')"
      ]
     },
     "execution_count": 101,
     "metadata": {},
     "output_type": "execute_result"
    }
   ],
   "source": [
    "tick_names = all_df1[country_n1[0]].columns\n",
    "tick_names"
   ]
  },
  {
   "cell_type": "code",
   "execution_count": 103,
   "metadata": {},
   "outputs": [],
   "source": [
    "for index in country_n2:\n",
    "    all_df2[index].columns = tick_names\n",
    "    home_df2[index].columns = tick_names\n",
    "    other_df2[index].columns = tick_names\n",
    "    school_df2[index].columns = tick_names\n",
    "    work_df2[index].columns = tick_names\n",
    "for index in country_n1:\n",
    "    all_df1[index].columns = tick_names\n",
    "    home_df1[index].columns = tick_names\n",
    "    other_df1[index].columns = tick_names\n",
    "    school_df1[index].columns = tick_names\n",
    "    work_df1[index].columns = tick_names"
   ]
  },
  {
   "cell_type": "code",
   "execution_count": 104,
   "metadata": {
    "scrolled": true
   },
   "outputs": [
    {
     "data": {
      "text/plain": [
       "['Albania',\n",
       " 'Algeria',\n",
       " 'Andorra',\n",
       " 'Antigua and Barbuda',\n",
       " 'Argentina',\n",
       " 'Armenia',\n",
       " 'Australia',\n",
       " 'Austria',\n",
       " 'Azerbaijan',\n",
       " 'Bahamas',\n",
       " 'Bahrain',\n",
       " 'Bangladesh',\n",
       " 'Belarus',\n",
       " 'Belgium',\n",
       " 'Belize',\n",
       " 'Benin',\n",
       " 'Bhutan',\n",
       " 'Bolivia (Plurinational State of',\n",
       " 'Bosnia and Herzegovina',\n",
       " 'Botswana',\n",
       " 'Brazil',\n",
       " 'Brunei Darussalam',\n",
       " 'Bulgaria',\n",
       " 'Burkina Faso',\n",
       " 'Cabo Verde',\n",
       " 'Cambodia',\n",
       " 'Cameroon',\n",
       " 'Canada',\n",
       " 'Chile',\n",
       " 'China',\n",
       " 'Colombia',\n",
       " 'Congo',\n",
       " 'Costa Rica',\n",
       " 'Croatia',\n",
       " 'Cyprus',\n",
       " 'Czech Republic',\n",
       " 'Denmark',\n",
       " 'Dominican Republic',\n",
       " 'Ecuador',\n",
       " 'Egypt',\n",
       " 'El Salvador',\n",
       " 'Estonia',\n",
       " 'Ethiopia',\n",
       " 'Fiji',\n",
       " 'Finland',\n",
       " 'France',\n",
       " 'Georgia',\n",
       " 'Germany',\n",
       " 'Ghana',\n",
       " 'Greece',\n",
       " 'Guatemala',\n",
       " 'Guinea',\n",
       " 'Guyana',\n",
       " 'Haiti',\n",
       " 'Honduras',\n",
       " 'Hong Kong SAR, China',\n",
       " 'Hungary',\n",
       " 'Iceland',\n",
       " 'India',\n",
       " 'Indonesia',\n",
       " 'Iran (Islamic Republic of)',\n",
       " 'Iraq',\n",
       " 'Ireland',\n",
       " 'Israel',\n",
       " 'Italy',\n",
       " 'Jamaica',\n",
       " 'Japan',\n",
       " 'Jordan',\n",
       " 'Kazakhstan',\n",
       " 'Kenya',\n",
       " 'Kiribati',\n",
       " 'Kuwait',\n",
       " 'Kyrgyzstan',\n",
       " \"Lao People's Democratic Republi\",\n",
       " 'Latvia',\n",
       " 'Lebanon',\n",
       " 'Lesotho',\n",
       " 'Liberia',\n",
       " 'Lithuania',\n",
       " 'Luxembourg',\n",
       " 'Malaysia',\n",
       " 'Maldives',\n",
       " 'Malta',\n",
       " 'Mauritania',\n",
       " 'Mauritius',\n",
       " 'Mexico',\n",
       " 'Mongolia',\n",
       " 'Montenegro',\n",
       " 'Morocco']"
      ]
     },
     "execution_count": 104,
     "metadata": {},
     "output_type": "execute_result"
    }
   ],
   "source": [
    "country_n1"
   ]
  },
  {
   "cell_type": "code",
   "execution_count": 105,
   "metadata": {
    "scrolled": true
   },
   "outputs": [
    {
     "data": {
      "text/plain": [
       "['Mozambique',\n",
       " 'Namibia',\n",
       " 'Nepal',\n",
       " 'Netherlands',\n",
       " 'New Zealand',\n",
       " 'Nicaragua',\n",
       " 'Niger',\n",
       " 'Nigeria',\n",
       " 'Oman',\n",
       " 'Pakistan',\n",
       " 'Panama',\n",
       " 'Paraguay',\n",
       " 'Peru',\n",
       " 'Philippines',\n",
       " 'Poland',\n",
       " 'Portugal',\n",
       " 'Qatar',\n",
       " 'Republic of Korea',\n",
       " 'Romania',\n",
       " 'Russian Federation',\n",
       " 'Rwanda',\n",
       " 'Saint Lucia',\n",
       " 'Samoa',\n",
       " 'Sao Tome and Principe ',\n",
       " 'Saudi Arabia',\n",
       " 'Senegal',\n",
       " 'Serbia',\n",
       " 'Seychelles',\n",
       " 'Sierra Leone',\n",
       " 'Singapore',\n",
       " 'Slovakia',\n",
       " 'Slovenia',\n",
       " 'Solomon Islands',\n",
       " 'South Africa',\n",
       " 'Spain',\n",
       " 'Sri Lanka',\n",
       " 'Suriname',\n",
       " 'Sweden',\n",
       " 'Switzerland',\n",
       " 'Syrian Arab Republic',\n",
       " 'Taiwan',\n",
       " 'Tajikistan',\n",
       " 'TFYR of Macedonia',\n",
       " 'Thailand',\n",
       " 'Timor-Leste',\n",
       " 'Tonga',\n",
       " 'Tunisia',\n",
       " 'Turkey',\n",
       " 'Uganda',\n",
       " 'Ukraine',\n",
       " 'United Arab Emirates',\n",
       " 'United Kingdom of Great Britain',\n",
       " 'United Republic of Tanzania',\n",
       " 'United States of America',\n",
       " 'Uruguay',\n",
       " 'Uzbekistan',\n",
       " 'Vanuatu',\n",
       " 'Venezuela (Bolivarian Republic ',\n",
       " 'Viet Nam',\n",
       " 'Yemen',\n",
       " 'Zambia',\n",
       " 'Zimbabwe']"
      ]
     },
     "execution_count": 105,
     "metadata": {},
     "output_type": "execute_result"
    }
   ],
   "source": [
    "country_n2"
   ]
  },
  {
   "cell_type": "markdown",
   "metadata": {},
   "source": [
    "Removing the countries for which the population data is not available from the same source "
   ]
  },
  {
   "cell_type": "code",
   "execution_count": 106,
   "metadata": {},
   "outputs": [],
   "source": [
    "country_n1.remove('Hong Kong SAR, China')\n",
    "country_n1.remove('Andorra')"
   ]
  },
  {
   "cell_type": "code",
   "execution_count": 107,
   "metadata": {},
   "outputs": [],
   "source": [
    "country_n2.remove('Samoa')\n",
    "country_n2.remove('Taiwan')\n",
    "country_n2.remove('United Republic of Tanzania')"
   ]
  },
  {
   "cell_type": "markdown",
   "metadata": {},
   "source": [
    "Lets start working the first list of the countries and try to create a python program which could calculate the value which we are aiming for."
   ]
  },
  {
   "cell_type": "code",
   "execution_count": 108,
   "metadata": {},
   "outputs": [],
   "source": [
    "df = pd.DataFrame(columns = ['Country','Population','Total_index','Home','Other','School','Work'])"
   ]
  },
  {
   "cell_type": "code",
   "execution_count": 109,
   "metadata": {},
   "outputs": [],
   "source": [
    "for index in country_n1:\n",
    "    contact_matrix1 = all_df1[index]\n",
    "    contact_matrix2 = home_df1[index]\n",
    "    contact_matrix3 = other_df1[index]\n",
    "    contact_matrix4 = school_df1[index]\n",
    "    contact_matrix5 = work_df1[index]\n",
    "    file_path_def ='C:\\\\Users\\\\varun\\\\Desktop\\\\Udacity\\\\UGP\\\\Population_density\\\\' + index + '-2019.csv'\n",
    "    population = pd.read_csv(file_path_def)\n",
    "    total = population['M'] + population['F']\n",
    "    pop = sum(total)\n",
    "    count1 = 0\n",
    "    count2 = 0\n",
    "    count3 = 0\n",
    "    count4 = 0\n",
    "    count5 = 0\n",
    "    for i in range(16) :\n",
    "        colum = 'X' + str(i+1);\n",
    "        val1 = contact_matrix1[colum]\n",
    "        val2 = contact_matrix2[colum]\n",
    "        val3 = contact_matrix3[colum]\n",
    "        val4 = contact_matrix4[colum]\n",
    "        val5 = contact_matrix5[colum]\n",
    "        temp1 = sum(val1)\n",
    "        temp2 = sum(val2)\n",
    "        temp3 = sum(val3)\n",
    "        temp4 = sum(val4)\n",
    "        temp5 = sum(val5)\n",
    "        count1 += temp1*total[i]\n",
    "        count2 += temp2*total[i]\n",
    "        count3 += temp3*total[i]\n",
    "        count4 += temp4*total[i]\n",
    "        count5 += temp5*total[i]\n",
    "    new_row = {'Country' : index,'Population' : pop ,'Total_index' : count1,'Home': count2,'Other': count3, 'School': count4, 'Work': count5}\n",
    "    df = df.append(new_row, ignore_index=True)"
   ]
  },
  {
   "cell_type": "code",
   "execution_count": 110,
   "metadata": {},
   "outputs": [],
   "source": [
    "for index in country_n2:\n",
    "    contact_matrix1 = all_df2[index]\n",
    "    contact_matrix2 = home_df2[index]\n",
    "    contact_matrix3 = other_df2[index]\n",
    "    contact_matrix4 = school_df2[index]\n",
    "    contact_matrix5 = work_df2[index]\n",
    "    file_path_def ='C:\\\\Users\\\\varun\\\\Desktop\\\\Udacity\\\\UGP\\\\Population_density\\\\' + index + '-2019.csv'\n",
    "    population = pd.read_csv(file_path_def)\n",
    "    total = population['M'] + population['F']\n",
    "    pop = sum(total)\n",
    "    count1 = 0\n",
    "    count2 = 0\n",
    "    count3 = 0\n",
    "    count4 = 0\n",
    "    count5 = 0\n",
    "    for i in range(16) :\n",
    "        colum = 'X' + str(i+1);\n",
    "        val1 = contact_matrix1[colum]\n",
    "        val2 = contact_matrix2[colum]\n",
    "        val3 = contact_matrix3[colum]\n",
    "        val4 = contact_matrix4[colum]\n",
    "        val5 = contact_matrix5[colum]\n",
    "        temp1 = sum(val1)\n",
    "        temp2 = sum(val2)\n",
    "        temp3 = sum(val3)\n",
    "        temp4 = sum(val4)\n",
    "        temp5 = sum(val5)\n",
    "        count1 += temp1*total[i]\n",
    "        count2 += temp2*total[i]\n",
    "        count3 += temp3*total[i]\n",
    "        count4 += temp4*total[i]\n",
    "        count5 += temp5*total[i]\n",
    "    new_row = {'Country' : index,'Population' : pop ,'Total_index' : count1,'Home': count2,'Other': count3, 'School': count4, 'Work': count5}\n",
    "    df = df.append(new_row, ignore_index=True)"
   ]
  },
  {
   "cell_type": "code",
   "execution_count": 111,
   "metadata": {},
   "outputs": [
    {
     "data": {
      "text/html": [
       "<div>\n",
       "<style scoped>\n",
       "    .dataframe tbody tr th:only-of-type {\n",
       "        vertical-align: middle;\n",
       "    }\n",
       "\n",
       "    .dataframe tbody tr th {\n",
       "        vertical-align: top;\n",
       "    }\n",
       "\n",
       "    .dataframe thead th {\n",
       "        text-align: right;\n",
       "    }\n",
       "</style>\n",
       "<table border=\"1\" class=\"dataframe\">\n",
       "  <thead>\n",
       "    <tr style=\"text-align: right;\">\n",
       "      <th></th>\n",
       "      <th>Country</th>\n",
       "      <th>Population</th>\n",
       "      <th>Total_index</th>\n",
       "      <th>Home</th>\n",
       "      <th>Other</th>\n",
       "      <th>School</th>\n",
       "      <th>Work</th>\n",
       "    </tr>\n",
       "  </thead>\n",
       "  <tbody>\n",
       "    <tr>\n",
       "      <th>0</th>\n",
       "      <td>Albania</td>\n",
       "      <td>2880913</td>\n",
       "      <td>3.838068e+07</td>\n",
       "      <td>1.068326e+07</td>\n",
       "      <td>1.430326e+07</td>\n",
       "      <td>5.625936e+06</td>\n",
       "      <td>7.768229e+06</td>\n",
       "    </tr>\n",
       "    <tr>\n",
       "      <th>1</th>\n",
       "      <td>Algeria</td>\n",
       "      <td>43053054</td>\n",
       "      <td>6.373596e+08</td>\n",
       "      <td>1.759553e+08</td>\n",
       "      <td>2.863821e+08</td>\n",
       "      <td>1.147987e+08</td>\n",
       "      <td>6.022355e+07</td>\n",
       "    </tr>\n",
       "    <tr>\n",
       "      <th>2</th>\n",
       "      <td>Antigua and Barbuda</td>\n",
       "      <td>97115</td>\n",
       "      <td>1.584368e+06</td>\n",
       "      <td>4.161274e+05</td>\n",
       "      <td>5.464844e+05</td>\n",
       "      <td>2.242885e+05</td>\n",
       "      <td>3.974679e+05</td>\n",
       "    </tr>\n",
       "    <tr>\n",
       "      <th>3</th>\n",
       "      <td>Argentina</td>\n",
       "      <td>44780675</td>\n",
       "      <td>6.731221e+08</td>\n",
       "      <td>2.020790e+08</td>\n",
       "      <td>2.373145e+08</td>\n",
       "      <td>9.613251e+07</td>\n",
       "      <td>1.375961e+08</td>\n",
       "    </tr>\n",
       "    <tr>\n",
       "      <th>4</th>\n",
       "      <td>Armenia</td>\n",
       "      <td>2957728</td>\n",
       "      <td>4.185080e+07</td>\n",
       "      <td>1.164423e+07</td>\n",
       "      <td>1.455815e+07</td>\n",
       "      <td>6.163886e+06</td>\n",
       "      <td>9.484537e+06</td>\n",
       "    </tr>\n",
       "  </tbody>\n",
       "</table>\n",
       "</div>"
      ],
      "text/plain": [
       "               Country Population   Total_index          Home         Other  \\\n",
       "0              Albania    2880913  3.838068e+07  1.068326e+07  1.430326e+07   \n",
       "1              Algeria   43053054  6.373596e+08  1.759553e+08  2.863821e+08   \n",
       "2  Antigua and Barbuda      97115  1.584368e+06  4.161274e+05  5.464844e+05   \n",
       "3            Argentina   44780675  6.731221e+08  2.020790e+08  2.373145e+08   \n",
       "4              Armenia    2957728  4.185080e+07  1.164423e+07  1.455815e+07   \n",
       "\n",
       "         School          Work  \n",
       "0  5.625936e+06  7.768229e+06  \n",
       "1  1.147987e+08  6.022355e+07  \n",
       "2  2.242885e+05  3.974679e+05  \n",
       "3  9.613251e+07  1.375961e+08  \n",
       "4  6.163886e+06  9.484537e+06  "
      ]
     },
     "execution_count": 111,
     "metadata": {},
     "output_type": "execute_result"
    }
   ],
   "source": [
    "df.head()"
   ]
  },
  {
   "cell_type": "code",
   "execution_count": 112,
   "metadata": {},
   "outputs": [
    {
     "data": {
      "text/plain": [
       "(146, 7)"
      ]
     },
     "execution_count": 112,
     "metadata": {},
     "output_type": "execute_result"
    }
   ],
   "source": [
    "df.shape"
   ]
  },
  {
   "cell_type": "code",
   "execution_count": 119,
   "metadata": {},
   "outputs": [
    {
     "data": {
      "text/plain": [
       "<matplotlib.axes._subplots.AxesSubplot at 0x1d1c97fa488>"
      ]
     },
     "execution_count": 119,
     "metadata": {},
     "output_type": "execute_result"
    },
    {
     "data": {
      "image/png": "[encoded data removed]",
      "text/plain": [
       "<Figure size 432x288 with 1 Axes>"
      ]
     },
     "metadata": {
      "needs_background": "light"
     },
     "output_type": "display_data"
    }
   ],
   "source": [
    "sns.scatterplot(x = 'Population', y = 'Work', data = df)"
   ]
  },
  {
   "cell_type": "markdown",
   "metadata": {},
   "source": [
    "The outliers must be india and china due the population "
   ]
  },
  {
   "cell_type": "code",
   "execution_count": 113,
   "metadata": {},
   "outputs": [],
   "source": [
    "df.to_csv('Final.csv')"
   ]
  },
  {
   "cell_type": "markdown",
   "metadata": {},
   "source": [
    "### Analyse the Dataset"
   ]
  },
  {
   "cell_type": "code",
   "execution_count": 29,
   "metadata": {},
   "outputs": [],
   "source": [
    "from sklearn.model_selection import train_test_split\n",
    "from sklearn.linear_model import LinearRegression\n",
    "from sklearn.svm import SVR\n",
    "from sklearn.metrics import r2_score"
   ]
  },
  {
   "cell_type": "code",
   "execution_count": 22,
   "metadata": {},
   "outputs": [
    {
     "data": {
      "text/plain": [
       "(146, 8)"
      ]
     },
     "execution_count": 22,
     "metadata": {},
     "output_type": "execute_result"
    }
   ],
   "source": [
    "main_df = pd.read_csv(r\"C:\\Users\\varun\\Desktop\\Udacity\\Final.csv\")\n",
    "main_df.shape"
   ]
  },
  {
   "cell_type": "code",
   "execution_count": 4,
   "metadata": {},
   "outputs": [],
   "source": [
    "main_df.drop(main_df.loc[main_df['Country']=='India'].index, inplace=True)\n",
    "main_df.drop(main_df.loc[main_df['Country']=='China'].index, inplace=True)"
   ]
  },
  {
   "cell_type": "code",
   "execution_count": 5,
   "metadata": {},
   "outputs": [
    {
     "data": {
      "text/plain": [
       "(144, 8)"
      ]
     },
     "execution_count": 5,
     "metadata": {},
     "output_type": "execute_result"
    }
   ],
   "source": [
    "main_df.shape"
   ]
  },
  {
   "cell_type": "code",
   "execution_count": 8,
   "metadata": {},
   "outputs": [
    {
     "data": {
      "text/plain": [
       "<matplotlib.axes._subplots.AxesSubplot at 0x1f323817848>"
      ]
     },
     "execution_count": 8,
     "metadata": {},
     "output_type": "execute_result"
    },
    {
     "data": {
      "image/png": "[encoded data removed]",
      "text/plain": [
       "<Figure size 432x288 with 1 Axes>"
      ]
     },
     "metadata": {
      "needs_background": "light"
     },
     "output_type": "display_data"
    }
   ],
   "source": [
    "sns.scatterplot(x = 'Population', y = 'Total_index', data = main_df)"
   ]
  },
  {
   "cell_type": "code",
   "execution_count": 35,
   "metadata": {},
   "outputs": [
    {
     "name": "stdout",
     "output_type": "stream",
     "text": [
      "(116, 1)\n",
      "(30, 1)\n"
     ]
    }
   ],
   "source": [
    "X = main_df['Population'].values\n",
    "y = main_df['Total_index'].values\n",
    "X = X.reshape(-1,1)\n",
    "#y = y.reshape(-1,1)\n",
    "X_train, X_test, y_train, y_test = train_test_split(X, y, test_size=0.20, random_state=40)\n",
    "print(X_train.shape); print(X_test.shape)"
   ]
  },
  {
   "cell_type": "markdown",
   "metadata": {},
   "source": [
    "We can proceed with multiple options here - <br/>\n",
    "• Linear Regression on 1. all entries 2. excluding india and china <br/>\n",
    "• Non Linear Regression on 1. all entries 2. excluding india and china"
   ]
  },
  {
   "cell_type": "markdown",
   "metadata": {},
   "source": [
    "Linear regression"
   ]
  },
  {
   "cell_type": "code",
   "execution_count": 17,
   "metadata": {},
   "outputs": [],
   "source": [
    "model = LinearRegression().fit(X_train, y_train)"
   ]
  },
  {
   "cell_type": "code",
   "execution_count": 31,
   "metadata": {},
   "outputs": [
    {
     "name": "stdout",
     "output_type": "stream",
     "text": [
      "0.9867897528206275\n",
      "0.9585128045893213\n"
     ]
    }
   ],
   "source": [
    "print(model.score(X_train, y_train))\n",
    "print(model.score(X_test, y_test))"
   ]
  },
  {
   "cell_type": "code",
   "execution_count": 24,
   "metadata": {},
   "outputs": [
    {
     "data": {
      "text/plain": [
       "[<matplotlib.lines.Line2D at 0x1f325310408>]"
      ]
     },
     "execution_count": 24,
     "metadata": {},
     "output_type": "execute_result"
    },
    {
     "data": {
      "image/png": "[encoded data removed]",
      "text/plain": [
       "<Figure size 432x288 with 1 Axes>"
      ]
     },
     "metadata": {
      "needs_background": "light"
     },
     "output_type": "display_data"
    }
   ],
   "source": [
    "X_grid = np.arange(min(X), max(X), 1000) \n",
    "X_grid = X_grid.reshape((len(X_grid), 1))\n",
    "plt.scatter(X, y, color = 'red')\n",
    "plt.plot(X_grid, model.predict(X_grid), color = 'blue')"
   ]
  },
  {
   "cell_type": "markdown",
   "metadata": {},
   "source": [
    "SVM Regression"
   ]
  },
  {
   "cell_type": "code",
   "execution_count": null,
   "metadata": {},
   "outputs": [],
   "source": []
  }
 ],
 "metadata": {
  "kernelspec": {
   "display_name": "Python 3",
   "language": "python",
   "name": "python3"
  },
  "language_info": {
   "codemirror_mode": {
    "name": "ipython",
    "version": 3
   },
   "file_extension": ".py",
   "mimetype": "text/x-python",
   "name": "python",
   "nbconvert_exporter": "python",
   "pygments_lexer": "ipython3",
   "version": "3.7.7"
  }
 },
 "nbformat": 4,
 "nbformat_minor": 4
}
