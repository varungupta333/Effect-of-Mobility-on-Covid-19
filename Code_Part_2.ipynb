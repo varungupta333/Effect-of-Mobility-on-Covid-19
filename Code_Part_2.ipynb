{
 "cells": [
  {
   "cell_type": "markdown",
   "metadata": {},
   "source": [
    "This notebook is continuation to the previous one where we contructed the whole dataset for the total contact rates for all the 152 countries. Here we will analyse the various values obtained with population and population density so as to extract a fine model."
   ]
  },
  {
   "cell_type": "code",
   "execution_count": 1,
   "metadata": {},
   "outputs": [],
   "source": [
    "import pandas as pd\n",
    "import numpy as np\n",
    "import seaborn as sns\n",
    "from matplotlib import pyplot as plt\n",
    "from sklearn.preprocessing import LabelEncoder\n",
    "from sklearn.impute import SimpleImputer\n",
    "from sklearn.preprocessing import OneHotEncoder\n",
    "from sklearn.compose import ColumnTransformer\n",
    "from sklearn.pipeline import Pipeline\n",
    "from sklearn.model_selection import cross_val_score\n",
    "from sklearn.ensemble import RandomForestClassifier\n",
    "from sklearn.ensemble import GradientBoostingClassifier\n",
    "from sklearn.model_selection import GridSearchCV"
   ]
  },
  {
   "cell_type": "code",
   "execution_count": 2,
   "metadata": {},
   "outputs": [],
   "source": [
    "from sklearn.model_selection import train_test_split\n",
    "from sklearn.linear_model import LinearRegression\n",
    "from sklearn.svm import SVR\n",
    "from sklearn.linear_model import LogisticRegression\n",
    "from sklearn.linear_model import Ridge\n",
    "from sklearn.linear_model import Lasso\n",
    "from sklearn.tree import DecisionTreeRegressor\n",
    "from sklearn.ensemble import RandomForestRegressor\n",
    "from sklearn.metrics import mean_squared_error\n",
    "from sklearn.metrics import r2_score\n",
    "from sklearn.preprocessing import PolynomialFeatures\n",
    "from sklearn.pipeline import Pipeline, make_pipeline\n",
    "from sklearn import preprocessing"
   ]
  },
  {
   "cell_type": "markdown",
   "metadata": {},
   "source": [
    "Lets start Data analysis on the acquired data-set"
   ]
  },
  {
   "cell_type": "code",
   "execution_count": 3,
   "metadata": {},
   "outputs": [
    {
     "name": "stdout",
     "output_type": "stream",
     "text": [
      "(146, 9)\n"
     ]
    },
    {
     "data": {
      "text/html": [
       "<div>\n",
       "<style scoped>\n",
       "    .dataframe tbody tr th:only-of-type {\n",
       "        vertical-align: middle;\n",
       "    }\n",
       "\n",
       "    .dataframe tbody tr th {\n",
       "        vertical-align: top;\n",
       "    }\n",
       "\n",
       "    .dataframe thead th {\n",
       "        text-align: right;\n",
       "    }\n",
       "</style>\n",
       "<table border=\"1\" class=\"dataframe\">\n",
       "  <thead>\n",
       "    <tr style=\"text-align: right;\">\n",
       "      <th></th>\n",
       "      <th>Country</th>\n",
       "      <th>Population</th>\n",
       "      <th>Total_index</th>\n",
       "      <th>Home</th>\n",
       "      <th>Other</th>\n",
       "      <th>School</th>\n",
       "      <th>Work</th>\n",
       "      <th>Population_Density</th>\n",
       "      <th>Reproduction</th>\n",
       "    </tr>\n",
       "  </thead>\n",
       "  <tbody>\n",
       "    <tr>\n",
       "      <th>0</th>\n",
       "      <td>Albania</td>\n",
       "      <td>2880913</td>\n",
       "      <td>3.838068e+07</td>\n",
       "      <td>1.068326e+07</td>\n",
       "      <td>1.430326e+07</td>\n",
       "      <td>5.625936e+06</td>\n",
       "      <td>7.768229e+06</td>\n",
       "      <td>105.00</td>\n",
       "      <td>0.95</td>\n",
       "    </tr>\n",
       "    <tr>\n",
       "      <th>1</th>\n",
       "      <td>Algeria</td>\n",
       "      <td>43053054</td>\n",
       "      <td>6.373596e+08</td>\n",
       "      <td>1.759553e+08</td>\n",
       "      <td>2.863821e+08</td>\n",
       "      <td>1.147987e+08</td>\n",
       "      <td>6.022355e+07</td>\n",
       "      <td>18.41</td>\n",
       "      <td>0.93</td>\n",
       "    </tr>\n",
       "    <tr>\n",
       "      <th>2</th>\n",
       "      <td>Antigua and Barbuda</td>\n",
       "      <td>97115</td>\n",
       "      <td>1.584368e+06</td>\n",
       "      <td>4.161274e+05</td>\n",
       "      <td>5.464844e+05</td>\n",
       "      <td>2.242885e+05</td>\n",
       "      <td>3.974679e+05</td>\n",
       "      <td>222.60</td>\n",
       "      <td>1.40</td>\n",
       "    </tr>\n",
       "    <tr>\n",
       "      <th>3</th>\n",
       "      <td>Argentina</td>\n",
       "      <td>44780675</td>\n",
       "      <td>6.731221e+08</td>\n",
       "      <td>2.020790e+08</td>\n",
       "      <td>2.373145e+08</td>\n",
       "      <td>9.613251e+07</td>\n",
       "      <td>1.375961e+08</td>\n",
       "      <td>16.52</td>\n",
       "      <td>0.94</td>\n",
       "    </tr>\n",
       "    <tr>\n",
       "      <th>4</th>\n",
       "      <td>Armenia</td>\n",
       "      <td>2957728</td>\n",
       "      <td>4.185080e+07</td>\n",
       "      <td>1.164423e+07</td>\n",
       "      <td>1.455815e+07</td>\n",
       "      <td>6.163886e+06</td>\n",
       "      <td>9.484537e+06</td>\n",
       "      <td>104.10</td>\n",
       "      <td>1.10</td>\n",
       "    </tr>\n",
       "  </tbody>\n",
       "</table>\n",
       "</div>"
      ],
      "text/plain": [
       "               Country  Population   Total_index          Home         Other  \\\n",
       "0              Albania     2880913  3.838068e+07  1.068326e+07  1.430326e+07   \n",
       "1              Algeria    43053054  6.373596e+08  1.759553e+08  2.863821e+08   \n",
       "2  Antigua and Barbuda       97115  1.584368e+06  4.161274e+05  5.464844e+05   \n",
       "3            Argentina    44780675  6.731221e+08  2.020790e+08  2.373145e+08   \n",
       "4              Armenia     2957728  4.185080e+07  1.164423e+07  1.455815e+07   \n",
       "\n",
       "         School          Work  Population_Density  Reproduction  \n",
       "0  5.625936e+06  7.768229e+06              105.00          0.95  \n",
       "1  1.147987e+08  6.022355e+07               18.41          0.93  \n",
       "2  2.242885e+05  3.974679e+05              222.60          1.40  \n",
       "3  9.613251e+07  1.375961e+08               16.52          0.94  \n",
       "4  6.163886e+06  9.484537e+06              104.10          1.10  "
      ]
     },
     "execution_count": 3,
     "metadata": {},
     "output_type": "execute_result"
    }
   ],
   "source": [
    "data_df = pd.read_csv(r\"C:\\Users\\varun\\Desktop\\Udacity\\UGP_data_notebook2.csv\")\n",
    "data_df.drop(['Unnamed: 0'], axis = 1, inplace = True)\n",
    "print(data_df.shape)\n",
    "data_df.head()"
   ]
  },
  {
   "cell_type": "markdown",
   "metadata": {},
   "source": [
    "Lets do two kinds of model building - <br/>\n",
    "• Including India and China <br/>\n",
    "• Excluding India and China <br/>\n",
    "The second analysis can give us better results for predicting contact baseline values for the cities in india. <br/>\n",
    "First we will build models comprising of x = [population] and [population, population density] both"
   ]
  },
  {
   "cell_type": "code",
   "execution_count": 4,
   "metadata": {},
   "outputs": [],
   "source": [
    "data_df['Pop_square'] = data_df['Population']**2"
   ]
  },
  {
   "cell_type": "code",
   "execution_count": 5,
   "metadata": {},
   "outputs": [
    {
     "data": {
      "text/plain": [
       "<matplotlib.axes._subplots.AxesSubplot at 0x20145f90348>"
      ]
     },
     "execution_count": 5,
     "metadata": {},
     "output_type": "execute_result"
    },
    {
     "data": {
      "image/png": "[encoded data removed]",
      "text/plain": [
       "<Figure size 432x288 with 1 Axes>"
      ]
     },
     "metadata": {
      "needs_background": "light"
     },
     "output_type": "display_data"
    }
   ],
   "source": [
    "sns.scatterplot(x = 'Population', y = 'Total_index', data = data_df)"
   ]
  },
  {
   "cell_type": "code",
   "execution_count": 6,
   "metadata": {},
   "outputs": [
    {
     "data": {
      "text/plain": [
       "<matplotlib.axes._subplots.AxesSubplot at 0x201467219c8>"
      ]
     },
     "execution_count": 6,
     "metadata": {},
     "output_type": "execute_result"
    },
    {
     "data": {
      "image/png": "[encoded data removed]",
      "text/plain": [
       "<Figure size 432x288 with 1 Axes>"
      ]
     },
     "metadata": {
      "needs_background": "light"
     },
     "output_type": "display_data"
    }
   ],
   "source": [
    "sns.scatterplot(x = 'Pop_square', y = 'Total_index', data = data_df)"
   ]
  },
  {
   "cell_type": "markdown",
   "metadata": {},
   "source": [
    "Lets also examine that can the Total_index/population of the place correlate with the population density"
   ]
  },
  {
   "cell_type": "code",
   "execution_count": 7,
   "metadata": {},
   "outputs": [],
   "source": [
    "data_df['Contact_by_population'] = data_df['Total_index']/data_df['Population']"
   ]
  },
  {
   "cell_type": "code",
   "execution_count": 8,
   "metadata": {},
   "outputs": [
    {
     "data": {
      "text/html": [
       "<div>\n",
       "<style scoped>\n",
       "    .dataframe tbody tr th:only-of-type {\n",
       "        vertical-align: middle;\n",
       "    }\n",
       "\n",
       "    .dataframe tbody tr th {\n",
       "        vertical-align: top;\n",
       "    }\n",
       "\n",
       "    .dataframe thead th {\n",
       "        text-align: right;\n",
       "    }\n",
       "</style>\n",
       "<table border=\"1\" class=\"dataframe\">\n",
       "  <thead>\n",
       "    <tr style=\"text-align: right;\">\n",
       "      <th></th>\n",
       "      <th>Country</th>\n",
       "      <th>Population</th>\n",
       "      <th>Total_index</th>\n",
       "      <th>Home</th>\n",
       "      <th>Other</th>\n",
       "      <th>School</th>\n",
       "      <th>Work</th>\n",
       "      <th>Population_Density</th>\n",
       "      <th>Reproduction</th>\n",
       "      <th>Pop_square</th>\n",
       "      <th>Contact_by_population</th>\n",
       "    </tr>\n",
       "  </thead>\n",
       "  <tbody>\n",
       "    <tr>\n",
       "      <th>0</th>\n",
       "      <td>Albania</td>\n",
       "      <td>2880913</td>\n",
       "      <td>3.838068e+07</td>\n",
       "      <td>1.068326e+07</td>\n",
       "      <td>1.430326e+07</td>\n",
       "      <td>5.625936e+06</td>\n",
       "      <td>7.768229e+06</td>\n",
       "      <td>105.00</td>\n",
       "      <td>0.95</td>\n",
       "      <td>8299659713569</td>\n",
       "      <td>13.322403</td>\n",
       "    </tr>\n",
       "    <tr>\n",
       "      <th>1</th>\n",
       "      <td>Algeria</td>\n",
       "      <td>43053054</td>\n",
       "      <td>6.373596e+08</td>\n",
       "      <td>1.759553e+08</td>\n",
       "      <td>2.863821e+08</td>\n",
       "      <td>1.147987e+08</td>\n",
       "      <td>6.022355e+07</td>\n",
       "      <td>18.41</td>\n",
       "      <td>0.93</td>\n",
       "      <td>1853565458726916</td>\n",
       "      <td>14.804050</td>\n",
       "    </tr>\n",
       "    <tr>\n",
       "      <th>2</th>\n",
       "      <td>Antigua and Barbuda</td>\n",
       "      <td>97115</td>\n",
       "      <td>1.584368e+06</td>\n",
       "      <td>4.161274e+05</td>\n",
       "      <td>5.464844e+05</td>\n",
       "      <td>2.242885e+05</td>\n",
       "      <td>3.974679e+05</td>\n",
       "      <td>222.60</td>\n",
       "      <td>1.40</td>\n",
       "      <td>9431323225</td>\n",
       "      <td>16.314350</td>\n",
       "    </tr>\n",
       "    <tr>\n",
       "      <th>3</th>\n",
       "      <td>Argentina</td>\n",
       "      <td>44780675</td>\n",
       "      <td>6.731221e+08</td>\n",
       "      <td>2.020790e+08</td>\n",
       "      <td>2.373145e+08</td>\n",
       "      <td>9.613251e+07</td>\n",
       "      <td>1.375961e+08</td>\n",
       "      <td>16.52</td>\n",
       "      <td>0.94</td>\n",
       "      <td>2005308853455625</td>\n",
       "      <td>15.031531</td>\n",
       "    </tr>\n",
       "    <tr>\n",
       "      <th>4</th>\n",
       "      <td>Armenia</td>\n",
       "      <td>2957728</td>\n",
       "      <td>4.185080e+07</td>\n",
       "      <td>1.164423e+07</td>\n",
       "      <td>1.455815e+07</td>\n",
       "      <td>6.163886e+06</td>\n",
       "      <td>9.484537e+06</td>\n",
       "      <td>104.10</td>\n",
       "      <td>1.10</td>\n",
       "      <td>8748154921984</td>\n",
       "      <td>14.149645</td>\n",
       "    </tr>\n",
       "  </tbody>\n",
       "</table>\n",
       "</div>"
      ],
      "text/plain": [
       "               Country  Population   Total_index          Home         Other  \\\n",
       "0              Albania     2880913  3.838068e+07  1.068326e+07  1.430326e+07   \n",
       "1              Algeria    43053054  6.373596e+08  1.759553e+08  2.863821e+08   \n",
       "2  Antigua and Barbuda       97115  1.584368e+06  4.161274e+05  5.464844e+05   \n",
       "3            Argentina    44780675  6.731221e+08  2.020790e+08  2.373145e+08   \n",
       "4              Armenia     2957728  4.185080e+07  1.164423e+07  1.455815e+07   \n",
       "\n",
       "         School          Work  Population_Density  Reproduction  \\\n",
       "0  5.625936e+06  7.768229e+06              105.00          0.95   \n",
       "1  1.147987e+08  6.022355e+07               18.41          0.93   \n",
       "2  2.242885e+05  3.974679e+05              222.60          1.40   \n",
       "3  9.613251e+07  1.375961e+08               16.52          0.94   \n",
       "4  6.163886e+06  9.484537e+06              104.10          1.10   \n",
       "\n",
       "         Pop_square  Contact_by_population  \n",
       "0     8299659713569              13.322403  \n",
       "1  1853565458726916              14.804050  \n",
       "2        9431323225              16.314350  \n",
       "3  2005308853455625              15.031531  \n",
       "4     8748154921984              14.149645  "
      ]
     },
     "execution_count": 8,
     "metadata": {},
     "output_type": "execute_result"
    }
   ],
   "source": [
    "data_df.head()"
   ]
  },
  {
   "cell_type": "code",
   "execution_count": 9,
   "metadata": {},
   "outputs": [
    {
     "data": {
      "text/plain": [
       "<matplotlib.axes._subplots.AxesSubplot at 0x20146792a08>"
      ]
     },
     "execution_count": 9,
     "metadata": {},
     "output_type": "execute_result"
    },
    {
     "data": {
      "image/png": "[encoded data removed]",
      "text/plain": [
       "<Figure size 432x288 with 1 Axes>"
      ]
     },
     "metadata": {
      "needs_background": "light"
     },
     "output_type": "display_data"
    }
   ],
   "source": [
    "sns.scatterplot(x = 'Population_Density', y = 'Contact_by_population', data = data_df)"
   ]
  },
  {
   "cell_type": "markdown",
   "metadata": {},
   "source": [
    "## Models -"
   ]
  },
  {
   "cell_type": "code",
   "execution_count": 10,
   "metadata": {},
   "outputs": [
    {
     "name": "stdout",
     "output_type": "stream",
     "text": [
      "(116, 1)\n",
      "(30, 1)\n"
     ]
    }
   ],
   "source": [
    "X = data_df['Population'].values\n",
    "y = data_df['Total_index'].values\n",
    "X = X.reshape(-1,1)\n",
    "#y = y.reshape(-1,1)\n",
    "X_train, X_test, y_train, y_test = train_test_split(X, y, test_size=0.20, random_state=40)\n",
    "print(X_train.shape); print(X_test.shape)"
   ]
  },
  {
   "cell_type": "markdown",
   "metadata": {},
   "source": [
    "#### • Linear Regression"
   ]
  },
  {
   "cell_type": "code",
   "execution_count": 11,
   "metadata": {},
   "outputs": [
    {
     "name": "stdout",
     "output_type": "stream",
     "text": [
      "0.9868366939654867\n",
      "0.9585182691651426\n"
     ]
    }
   ],
   "source": [
    "model = LinearRegression().fit(X_train, y_train)\n",
    "print(model.score(X_train, y_train))\n",
    "print(model.score(X_test, y_test))"
   ]
  },
  {
   "cell_type": "code",
   "execution_count": 12,
   "metadata": {},
   "outputs": [
    {
     "name": "stdout",
     "output_type": "stream",
     "text": [
      "0.9868366939654867\n"
     ]
    }
   ],
   "source": [
    "pred = model.predict(X_train)\n",
    "print(r2_score(y_train, pred))\n",
    "# checking if score represents R2 score or not"
   ]
  },
  {
   "cell_type": "code",
   "execution_count": 13,
   "metadata": {},
   "outputs": [
    {
     "data": {
      "text/plain": [
       "[<matplotlib.lines.Line2D at 0x201467fed48>]"
      ]
     },
     "execution_count": 13,
     "metadata": {},
     "output_type": "execute_result"
    },
    {
     "data": {
      "image/png": "[encoded data removed]",
      "text/plain": [
       "<Figure size 432x288 with 1 Axes>"
      ]
     },
     "metadata": {
      "needs_background": "light"
     },
     "output_type": "display_data"
    }
   ],
   "source": [
    "X_grid = np.arange(min(X), max(X), 1000) \n",
    "X_grid = X_grid.reshape((len(X_grid), 1))\n",
    "plt.scatter(X, y, color = 'red')\n",
    "plt.plot(X_grid, model.predict(X_grid), color = 'black')"
   ]
  },
  {
   "cell_type": "markdown",
   "metadata": {},
   "source": [
    "The linear regression turn out quite accurate with the R2 score of about 95% on the test data"
   ]
  },
  {
   "cell_type": "markdown",
   "metadata": {},
   "source": [
    "#### • Decision Tree Regression"
   ]
  },
  {
   "cell_type": "code",
   "execution_count": 14,
   "metadata": {},
   "outputs": [
    {
     "data": {
      "text/plain": [
       "DecisionTreeRegressor(max_depth=4)"
      ]
     },
     "execution_count": 14,
     "metadata": {},
     "output_type": "execute_result"
    }
   ],
   "source": [
    "dtree = DecisionTreeRegressor(max_depth=4)\n",
    "dtree.fit(X_train, y_train)"
   ]
  },
  {
   "cell_type": "code",
   "execution_count": 15,
   "metadata": {},
   "outputs": [
    {
     "name": "stdout",
     "output_type": "stream",
     "text": [
      "0.9968510683835891\n",
      "0.9163743552365647\n"
     ]
    }
   ],
   "source": [
    "print(dtree.score(X_train, y_train))\n",
    "print(dtree.score(X_test, y_test))"
   ]
  },
  {
   "cell_type": "code",
   "execution_count": 16,
   "metadata": {},
   "outputs": [
    {
     "data": {
      "text/plain": [
       "[<matplotlib.lines.Line2D at 0x20147e67a88>]"
      ]
     },
     "execution_count": 16,
     "metadata": {},
     "output_type": "execute_result"
    },
    {
     "data": {
      "image/png": "[encoded data removed]",
      "text/plain": [
       "<Figure size 432x288 with 1 Axes>"
      ]
     },
     "metadata": {
      "needs_background": "light"
     },
     "output_type": "display_data"
    }
   ],
   "source": [
    "X_grid = np.arange(min(X), max(X), 1000) \n",
    "X_grid = X_grid.reshape((len(X_grid), 1))\n",
    "plt.scatter(X, y, color = 'red')\n",
    "plt.plot(X_grid, dtree.predict(X_grid), color = 'black')"
   ]
  },
  {
   "cell_type": "markdown",
   "metadata": {},
   "source": [
    "The above technique will may be useful when the india and china datapoints are removed from the data-set."
   ]
  },
  {
   "cell_type": "markdown",
   "metadata": {},
   "source": [
    "#### • Regression (Population squared included)"
   ]
  },
  {
   "cell_type": "code",
   "execution_count": 77,
   "metadata": {},
   "outputs": [
    {
     "data": {
      "text/plain": [
       "Pipeline(steps=[('polynomialfeatures', PolynomialFeatures()),\n",
       "                ('linearregression', LinearRegression())])"
      ]
     },
     "execution_count": 77,
     "metadata": {},
     "output_type": "execute_result"
    }
   ],
   "source": [
    "model_1 = make_pipeline(PolynomialFeatures(degree = 2),LinearRegression())\n",
    "model_1.fit(X_train, y_train)"
   ]
  },
  {
   "cell_type": "code",
   "execution_count": 18,
   "metadata": {},
   "outputs": [
    {
     "name": "stdout",
     "output_type": "stream",
     "text": [
      "0.9869567503496348\n",
      "0.9586853794677547\n"
     ]
    }
   ],
   "source": [
    "print(model_1.score(X_train, y_train))\n",
    "print(model_1.score(X_test, y_test))"
   ]
  },
  {
   "cell_type": "code",
   "execution_count": 19,
   "metadata": {},
   "outputs": [
    {
     "data": {
      "text/plain": [
       "[<matplotlib.lines.Line2D at 0x201489cc048>]"
      ]
     },
     "execution_count": 19,
     "metadata": {},
     "output_type": "execute_result"
    },
    {
     "data": {
      "image/png": "[encoded data removed]",
      "text/plain": [
       "<Figure size 432x288 with 1 Axes>"
      ]
     },
     "metadata": {
      "needs_background": "light"
     },
     "output_type": "display_data"
    }
   ],
   "source": [
    "X_grid = np.arange(min(X), max(X), 1000) \n",
    "X_grid = X_grid.reshape((len(X_grid), 1))\n",
    "plt.scatter(X, y, color = 'red')\n",
    "plt.plot(X_grid, model_1.predict(X_grid), color = 'black')"
   ]
  },
  {
   "cell_type": "code",
   "execution_count": null,
   "metadata": {},
   "outputs": [],
   "source": []
  },
  {
   "cell_type": "markdown",
   "metadata": {},
   "source": [
    "The above regression introduces another column of population squared and it gives a slightly better accuracy including both."
   ]
  },
  {
   "cell_type": "markdown",
   "metadata": {},
   "source": [
    "<b>Data-Set using both columns </b>"
   ]
  },
  {
   "cell_type": "code",
   "execution_count": 20,
   "metadata": {},
   "outputs": [
    {
     "name": "stdout",
     "output_type": "stream",
     "text": [
      "(116, 2)\n",
      "(30, 2)\n"
     ]
    }
   ],
   "source": [
    "newX = data_df[['Population','Population_Density']].values\n",
    "newy = data_df['Total_index'].values\n",
    "newX_train, newX_test, newy_train, newy_test = train_test_split(newX, newy, test_size=0.20, random_state=40)\n",
    "print(newX_train.shape); print(newX_test.shape)"
   ]
  },
  {
   "cell_type": "code",
   "execution_count": 21,
   "metadata": {},
   "outputs": [
    {
     "name": "stdout",
     "output_type": "stream",
     "text": [
      "0.9972469920705024\n",
      "0.9163743552365647\n"
     ]
    }
   ],
   "source": [
    "dtree2 = DecisionTreeRegressor(max_depth=4)\n",
    "dtree2.fit(newX_train, newy_train)\n",
    "print(dtree2.score(newX_train, newy_train))\n",
    "print(dtree2.score(newX_test, newy_test))"
   ]
  },
  {
   "cell_type": "markdown",
   "metadata": {},
   "source": [
    "<b> Part 2 </b> <br/>\n",
    "Lets start using the data without the inclusion of india and china which may be outliers to the dataset"
   ]
  },
  {
   "cell_type": "code",
   "execution_count": 22,
   "metadata": {},
   "outputs": [
    {
     "name": "stdout",
     "output_type": "stream",
     "text": [
      "(146, 9)\n"
     ]
    },
    {
     "data": {
      "text/html": [
       "<div>\n",
       "<style scoped>\n",
       "    .dataframe tbody tr th:only-of-type {\n",
       "        vertical-align: middle;\n",
       "    }\n",
       "\n",
       "    .dataframe tbody tr th {\n",
       "        vertical-align: top;\n",
       "    }\n",
       "\n",
       "    .dataframe thead th {\n",
       "        text-align: right;\n",
       "    }\n",
       "</style>\n",
       "<table border=\"1\" class=\"dataframe\">\n",
       "  <thead>\n",
       "    <tr style=\"text-align: right;\">\n",
       "      <th></th>\n",
       "      <th>Country</th>\n",
       "      <th>Population</th>\n",
       "      <th>Total_index</th>\n",
       "      <th>Home</th>\n",
       "      <th>Other</th>\n",
       "      <th>School</th>\n",
       "      <th>Work</th>\n",
       "      <th>Population_Density</th>\n",
       "      <th>Reproduction</th>\n",
       "    </tr>\n",
       "  </thead>\n",
       "  <tbody>\n",
       "    <tr>\n",
       "      <th>0</th>\n",
       "      <td>Albania</td>\n",
       "      <td>2880913</td>\n",
       "      <td>3.838068e+07</td>\n",
       "      <td>1.068326e+07</td>\n",
       "      <td>1.430326e+07</td>\n",
       "      <td>5.625936e+06</td>\n",
       "      <td>7.768229e+06</td>\n",
       "      <td>105.00</td>\n",
       "      <td>0.95</td>\n",
       "    </tr>\n",
       "    <tr>\n",
       "      <th>1</th>\n",
       "      <td>Algeria</td>\n",
       "      <td>43053054</td>\n",
       "      <td>6.373596e+08</td>\n",
       "      <td>1.759553e+08</td>\n",
       "      <td>2.863821e+08</td>\n",
       "      <td>1.147987e+08</td>\n",
       "      <td>6.022355e+07</td>\n",
       "      <td>18.41</td>\n",
       "      <td>0.93</td>\n",
       "    </tr>\n",
       "    <tr>\n",
       "      <th>2</th>\n",
       "      <td>Antigua and Barbuda</td>\n",
       "      <td>97115</td>\n",
       "      <td>1.584368e+06</td>\n",
       "      <td>4.161274e+05</td>\n",
       "      <td>5.464844e+05</td>\n",
       "      <td>2.242885e+05</td>\n",
       "      <td>3.974679e+05</td>\n",
       "      <td>222.60</td>\n",
       "      <td>1.40</td>\n",
       "    </tr>\n",
       "    <tr>\n",
       "      <th>3</th>\n",
       "      <td>Argentina</td>\n",
       "      <td>44780675</td>\n",
       "      <td>6.731221e+08</td>\n",
       "      <td>2.020790e+08</td>\n",
       "      <td>2.373145e+08</td>\n",
       "      <td>9.613251e+07</td>\n",
       "      <td>1.375961e+08</td>\n",
       "      <td>16.52</td>\n",
       "      <td>0.94</td>\n",
       "    </tr>\n",
       "    <tr>\n",
       "      <th>4</th>\n",
       "      <td>Armenia</td>\n",
       "      <td>2957728</td>\n",
       "      <td>4.185080e+07</td>\n",
       "      <td>1.164423e+07</td>\n",
       "      <td>1.455815e+07</td>\n",
       "      <td>6.163886e+06</td>\n",
       "      <td>9.484537e+06</td>\n",
       "      <td>104.10</td>\n",
       "      <td>1.10</td>\n",
       "    </tr>\n",
       "  </tbody>\n",
       "</table>\n",
       "</div>"
      ],
      "text/plain": [
       "               Country  Population   Total_index          Home         Other  \\\n",
       "0              Albania     2880913  3.838068e+07  1.068326e+07  1.430326e+07   \n",
       "1              Algeria    43053054  6.373596e+08  1.759553e+08  2.863821e+08   \n",
       "2  Antigua and Barbuda       97115  1.584368e+06  4.161274e+05  5.464844e+05   \n",
       "3            Argentina    44780675  6.731221e+08  2.020790e+08  2.373145e+08   \n",
       "4              Armenia     2957728  4.185080e+07  1.164423e+07  1.455815e+07   \n",
       "\n",
       "         School          Work  Population_Density  Reproduction  \n",
       "0  5.625936e+06  7.768229e+06              105.00          0.95  \n",
       "1  1.147987e+08  6.022355e+07               18.41          0.93  \n",
       "2  2.242885e+05  3.974679e+05              222.60          1.40  \n",
       "3  9.613251e+07  1.375961e+08               16.52          0.94  \n",
       "4  6.163886e+06  9.484537e+06              104.10          1.10  "
      ]
     },
     "execution_count": 22,
     "metadata": {},
     "output_type": "execute_result"
    }
   ],
   "source": [
    "data_df_copy = pd.read_csv(r\"C:\\Users\\varun\\Desktop\\Udacity\\UGP_data_notebook2.csv\")\n",
    "data_df_copy.drop(['Unnamed: 0'], axis = 1, inplace = True)\n",
    "print(data_df_copy.shape)\n",
    "data_df_copy.head()"
   ]
  },
  {
   "cell_type": "code",
   "execution_count": 23,
   "metadata": {},
   "outputs": [],
   "source": [
    "data_df_copy.drop(data_df_copy.loc[data_df_copy['Country']=='India'].index, inplace=True)\n",
    "data_df_copy.drop(data_df_copy.loc[data_df_copy['Country']=='China'].index, inplace=True)"
   ]
  },
  {
   "cell_type": "code",
   "execution_count": 24,
   "metadata": {},
   "outputs": [
    {
     "name": "stdout",
     "output_type": "stream",
     "text": [
      "(144, 9)\n"
     ]
    }
   ],
   "source": [
    "print(data_df_copy.shape)"
   ]
  },
  {
   "cell_type": "code",
   "execution_count": 25,
   "metadata": {},
   "outputs": [
    {
     "data": {
      "text/plain": [
       "<matplotlib.axes._subplots.AxesSubplot at 0x20149559f88>"
      ]
     },
     "execution_count": 25,
     "metadata": {},
     "output_type": "execute_result"
    },
    {
     "data": {
      "image/png": "[encoded data removed]",
      "text/plain": [
       "<Figure size 432x288 with 1 Axes>"
      ]
     },
     "metadata": {
      "needs_background": "light"
     },
     "output_type": "display_data"
    }
   ],
   "source": [
    "sns.scatterplot(x = 'Population', y = 'Total_index', data = data_df_copy)"
   ]
  },
  {
   "cell_type": "code",
   "execution_count": 26,
   "metadata": {},
   "outputs": [
    {
     "name": "stdout",
     "output_type": "stream",
     "text": [
      "(115, 1)\n",
      "(29, 1)\n"
     ]
    }
   ],
   "source": [
    "X_cf = data_df_copy['Population'].values\n",
    "y_cf = data_df_copy['Total_index'].values\n",
    "X_cf = X_cf.reshape(-1,1)\n",
    "#y = y.reshape(-1,1)\n",
    "X_cf_train, X_cf_test, y_cf_train, y_cf_test = train_test_split(X_cf, y_cf, test_size=0.20, random_state=40)\n",
    "print(X_cf_train.shape); print(X_cf_test.shape)"
   ]
  },
  {
   "cell_type": "markdown",
   "metadata": {},
   "source": [
    "#### Models\n",
    "• Linear Regression"
   ]
  },
  {
   "cell_type": "code",
   "execution_count": 27,
   "metadata": {},
   "outputs": [
    {
     "name": "stdout",
     "output_type": "stream",
     "text": [
      "0.9315222758886123\n",
      "0.9549342887672504\n"
     ]
    }
   ],
   "source": [
    "model_clf = LinearRegression().fit(X_cf_train, y_cf_train)\n",
    "print(model_clf.score(X_cf_train, y_cf_train))\n",
    "print(model_clf.score(X_cf_test, y_cf_test))"
   ]
  },
  {
   "cell_type": "code",
   "execution_count": 28,
   "metadata": {
    "scrolled": true
   },
   "outputs": [
    {
     "data": {
      "text/plain": [
       "[<matplotlib.lines.Line2D at 0x201495c02c8>]"
      ]
     },
     "execution_count": 28,
     "metadata": {},
     "output_type": "execute_result"
    },
    {
     "data": {
      "image/png": "[encoded data removed]",
      "text/plain": [
       "<Figure size 432x288 with 1 Axes>"
      ]
     },
     "metadata": {
      "needs_background": "light"
     },
     "output_type": "display_data"
    }
   ],
   "source": [
    "X_grid = np.arange(min(X), max(X), 1000) \n",
    "X_grid = X_grid.reshape((len(X_grid), 1))\n",
    "plt.scatter(X, y, color = 'red')\n",
    "plt.plot(X_grid, model_clf.predict(X_grid), color = 'black')"
   ]
  },
  {
   "cell_type": "code",
   "execution_count": 29,
   "metadata": {},
   "outputs": [
    {
     "name": "stdout",
     "output_type": "stream",
     "text": [
      "0.9867897528206315\n",
      "0.9585128045943732\n"
     ]
    }
   ],
   "source": [
    "print(model_clf.score(X_train,y_train))\n",
    "print(model_clf.score(X_test,y_test))"
   ]
  },
  {
   "cell_type": "markdown",
   "metadata": {},
   "source": [
    "• Polynomial Regression"
   ]
  },
  {
   "cell_type": "code",
   "execution_count": 30,
   "metadata": {},
   "outputs": [
    {
     "data": {
      "text/plain": [
       "Pipeline(steps=[('polynomialfeatures', PolynomialFeatures()),\n",
       "                ('linearregression', LinearRegression())])"
      ]
     },
     "execution_count": 30,
     "metadata": {},
     "output_type": "execute_result"
    }
   ],
   "source": [
    "model_1_cf = make_pipeline(PolynomialFeatures(degree = 2),LinearRegression())\n",
    "model_1_cf.fit(X_cf_train, y_cf_train)"
   ]
  },
  {
   "cell_type": "code",
   "execution_count": 31,
   "metadata": {},
   "outputs": [
    {
     "name": "stdout",
     "output_type": "stream",
     "text": [
      "0.9364456982053299\n",
      "0.9092160685727744\n",
      "0.9375306560642209\n"
     ]
    }
   ],
   "source": [
    "print(model_1_cf.score(X_cf_train, y_cf_train))\n",
    "print(model_1_cf.score(X_cf_test, y_cf_test))\n",
    "print(model_1_cf.score(X_cf,y_cf))"
   ]
  },
  {
   "cell_type": "code",
   "execution_count": 32,
   "metadata": {},
   "outputs": [
    {
     "data": {
      "text/plain": [
       "[<matplotlib.lines.Line2D at 0x20149603ac8>]"
      ]
     },
     "execution_count": 32,
     "metadata": {},
     "output_type": "execute_result"
    },
    {
     "data": {
      "image/png": "[encoded data removed]",
      "text/plain": [
       "<Figure size 432x288 with 1 Axes>"
      ]
     },
     "metadata": {
      "needs_background": "light"
     },
     "output_type": "display_data"
    }
   ],
   "source": [
    "X_grid = np.arange(min(X_cf), max(X_cf), 1000) \n",
    "X_grid = X_grid.reshape((len(X_grid), 1))\n",
    "plt.scatter(X_cf, y_cf, color = 'red')\n",
    "plt.plot(X_grid, model_1_cf.predict(X_grid), color = 'black')"
   ]
  },
  {
   "cell_type": "code",
   "execution_count": null,
   "metadata": {},
   "outputs": [],
   "source": []
  },
  {
   "cell_type": "markdown",
   "metadata": {},
   "source": [
    "### Reproduction Number"
   ]
  },
  {
   "cell_type": "code",
   "execution_count": 33,
   "metadata": {},
   "outputs": [
    {
     "name": "stdout",
     "output_type": "stream",
     "text": [
      "(146, 9)\n"
     ]
    },
    {
     "data": {
      "text/html": [
       "<div>\n",
       "<style scoped>\n",
       "    .dataframe tbody tr th:only-of-type {\n",
       "        vertical-align: middle;\n",
       "    }\n",
       "\n",
       "    .dataframe tbody tr th {\n",
       "        vertical-align: top;\n",
       "    }\n",
       "\n",
       "    .dataframe thead th {\n",
       "        text-align: right;\n",
       "    }\n",
       "</style>\n",
       "<table border=\"1\" class=\"dataframe\">\n",
       "  <thead>\n",
       "    <tr style=\"text-align: right;\">\n",
       "      <th></th>\n",
       "      <th>Country</th>\n",
       "      <th>Population</th>\n",
       "      <th>Total_index</th>\n",
       "      <th>Home</th>\n",
       "      <th>Other</th>\n",
       "      <th>School</th>\n",
       "      <th>Work</th>\n",
       "      <th>Population_Density</th>\n",
       "      <th>Reproduction</th>\n",
       "    </tr>\n",
       "  </thead>\n",
       "  <tbody>\n",
       "    <tr>\n",
       "      <th>0</th>\n",
       "      <td>Albania</td>\n",
       "      <td>2880913</td>\n",
       "      <td>3.838068e+07</td>\n",
       "      <td>1.068326e+07</td>\n",
       "      <td>1.430326e+07</td>\n",
       "      <td>5.625936e+06</td>\n",
       "      <td>7.768229e+06</td>\n",
       "      <td>105.00</td>\n",
       "      <td>0.95</td>\n",
       "    </tr>\n",
       "    <tr>\n",
       "      <th>1</th>\n",
       "      <td>Algeria</td>\n",
       "      <td>43053054</td>\n",
       "      <td>6.373596e+08</td>\n",
       "      <td>1.759553e+08</td>\n",
       "      <td>2.863821e+08</td>\n",
       "      <td>1.147987e+08</td>\n",
       "      <td>6.022355e+07</td>\n",
       "      <td>18.41</td>\n",
       "      <td>0.93</td>\n",
       "    </tr>\n",
       "    <tr>\n",
       "      <th>2</th>\n",
       "      <td>Antigua and Barbuda</td>\n",
       "      <td>97115</td>\n",
       "      <td>1.584368e+06</td>\n",
       "      <td>4.161274e+05</td>\n",
       "      <td>5.464844e+05</td>\n",
       "      <td>2.242885e+05</td>\n",
       "      <td>3.974679e+05</td>\n",
       "      <td>222.60</td>\n",
       "      <td>1.40</td>\n",
       "    </tr>\n",
       "    <tr>\n",
       "      <th>3</th>\n",
       "      <td>Argentina</td>\n",
       "      <td>44780675</td>\n",
       "      <td>6.731221e+08</td>\n",
       "      <td>2.020790e+08</td>\n",
       "      <td>2.373145e+08</td>\n",
       "      <td>9.613251e+07</td>\n",
       "      <td>1.375961e+08</td>\n",
       "      <td>16.52</td>\n",
       "      <td>0.94</td>\n",
       "    </tr>\n",
       "    <tr>\n",
       "      <th>4</th>\n",
       "      <td>Armenia</td>\n",
       "      <td>2957728</td>\n",
       "      <td>4.185080e+07</td>\n",
       "      <td>1.164423e+07</td>\n",
       "      <td>1.455815e+07</td>\n",
       "      <td>6.163886e+06</td>\n",
       "      <td>9.484537e+06</td>\n",
       "      <td>104.10</td>\n",
       "      <td>1.10</td>\n",
       "    </tr>\n",
       "  </tbody>\n",
       "</table>\n",
       "</div>"
      ],
      "text/plain": [
       "               Country  Population   Total_index          Home         Other  \\\n",
       "0              Albania     2880913  3.838068e+07  1.068326e+07  1.430326e+07   \n",
       "1              Algeria    43053054  6.373596e+08  1.759553e+08  2.863821e+08   \n",
       "2  Antigua and Barbuda       97115  1.584368e+06  4.161274e+05  5.464844e+05   \n",
       "3            Argentina    44780675  6.731221e+08  2.020790e+08  2.373145e+08   \n",
       "4              Armenia     2957728  4.185080e+07  1.164423e+07  1.455815e+07   \n",
       "\n",
       "         School          Work  Population_Density  Reproduction  \n",
       "0  5.625936e+06  7.768229e+06              105.00          0.95  \n",
       "1  1.147987e+08  6.022355e+07               18.41          0.93  \n",
       "2  2.242885e+05  3.974679e+05              222.60          1.40  \n",
       "3  9.613251e+07  1.375961e+08               16.52          0.94  \n",
       "4  6.163886e+06  9.484537e+06              104.10          1.10  "
      ]
     },
     "execution_count": 33,
     "metadata": {},
     "output_type": "execute_result"
    }
   ],
   "source": [
    "newdata_df = pd.read_csv(r\"C:\\Users\\varun\\Desktop\\Udacity\\UGP_data_notebook2.csv\")\n",
    "newdata_df.drop(['Unnamed: 0'], axis = 1, inplace = True)\n",
    "print(newdata_df.shape)\n",
    "newdata_df.head()"
   ]
  },
  {
   "cell_type": "code",
   "execution_count": 34,
   "metadata": {},
   "outputs": [],
   "source": [
    "newdata_df['Contact_by_population'] = newdata_df['Total_index']/newdata_df['Population']"
   ]
  },
  {
   "cell_type": "code",
   "execution_count": 35,
   "metadata": {},
   "outputs": [
    {
     "data": {
      "text/plain": [
       "<matplotlib.axes._subplots.AxesSubplot at 0x2014992a388>"
      ]
     },
     "execution_count": 35,
     "metadata": {},
     "output_type": "execute_result"
    },
    {
     "data": {
      "image/png": "[encoded data removed]",
      "text/plain": [
       "<Figure size 432x288 with 1 Axes>"
      ]
     },
     "metadata": {
      "needs_background": "light"
     },
     "output_type": "display_data"
    }
   ],
   "source": [
    "sns.scatterplot(x = 'Population_Density', y = 'Reproduction', data = newdata_df)"
   ]
  },
  {
   "cell_type": "code",
   "execution_count": 36,
   "metadata": {},
   "outputs": [
    {
     "data": {
      "text/plain": [
       "<matplotlib.axes._subplots.AxesSubplot at 0x20149986148>"
      ]
     },
     "execution_count": 36,
     "metadata": {},
     "output_type": "execute_result"
    },
    {
     "data": {
      "image/png": "[encoded data removed]",
      "text/plain": [
       "<Figure size 432x288 with 1 Axes>"
      ]
     },
     "metadata": {
      "needs_background": "light"
     },
     "output_type": "display_data"
    }
   ],
   "source": [
    "df_filtered = newdata_df[newdata_df['Population_Density'] <= 1000]\n",
    "sns.scatterplot(x = 'Population_Density', y = 'Reproduction', data = df_filtered)"
   ]
  },
  {
   "cell_type": "code",
   "execution_count": 37,
   "metadata": {},
   "outputs": [
    {
     "data": {
      "text/plain": [
       "<matplotlib.axes._subplots.AxesSubplot at 0x201499eb548>"
      ]
     },
     "execution_count": 37,
     "metadata": {},
     "output_type": "execute_result"
    },
    {
     "data": {
      "image/png": "[encoded data removed]",
      "text/plain": [
       "<Figure size 432x288 with 1 Axes>"
      ]
     },
     "metadata": {
      "needs_background": "light"
     },
     "output_type": "display_data"
    }
   ],
   "source": [
    "sns.scatterplot(x = 'Population', y = 'Reproduction', data = newdata_df)"
   ]
  },
  {
   "cell_type": "code",
   "execution_count": 38,
   "metadata": {},
   "outputs": [
    {
     "data": {
      "text/plain": [
       "<matplotlib.axes._subplots.AxesSubplot at 0x2014403ba88>"
      ]
     },
     "execution_count": 38,
     "metadata": {},
     "output_type": "execute_result"
    },
    {
     "data": {
      "image/png": "[encoded data removed]",
      "text/plain": [
       "<Figure size 432x288 with 1 Axes>"
      ]
     },
     "metadata": {
      "needs_background": "light"
     },
     "output_type": "display_data"
    }
   ],
   "source": [
    "sns.scatterplot(x = 'Contact_by_population', y = 'Reproduction', data = newdata_df)"
   ]
  },
  {
   "cell_type": "markdown",
   "metadata": {},
   "source": [
    "### Final Models"
   ]
  },
  {
   "cell_type": "code",
   "execution_count": 39,
   "metadata": {},
   "outputs": [],
   "source": [
    "X = data_df['Population'].values\n",
    "X = X.reshape(-1,1)\n",
    "y1 = data_df['Total_index'].values\n",
    "y2 = data_df['Home'].values\n",
    "y3 = data_df['Work'].values\n",
    "y4 = data_df['School'].values\n",
    "y5 = data_df['Other'].values"
   ]
  },
  {
   "cell_type": "code",
   "execution_count": 40,
   "metadata": {},
   "outputs": [
    {
     "data": {
      "text/plain": [
       "Pipeline(steps=[('polynomialfeatures', PolynomialFeatures()),\n",
       "                ('linearregression', LinearRegression())])"
      ]
     },
     "execution_count": 40,
     "metadata": {},
     "output_type": "execute_result"
    }
   ],
   "source": [
    "model_1 = make_pipeline(PolynomialFeatures(degree = 2),LinearRegression())\n",
    "model_1.fit(X, y1)"
   ]
  },
  {
   "cell_type": "code",
   "execution_count": 41,
   "metadata": {},
   "outputs": [
    {
     "data": {
      "text/plain": [
       "Pipeline(steps=[('polynomialfeatures', PolynomialFeatures()),\n",
       "                ('linearregression', LinearRegression())])"
      ]
     },
     "execution_count": 41,
     "metadata": {},
     "output_type": "execute_result"
    }
   ],
   "source": [
    "model_2 = make_pipeline(PolynomialFeatures(degree = 2),LinearRegression())\n",
    "model_2.fit(X, y2)"
   ]
  },
  {
   "cell_type": "code",
   "execution_count": 42,
   "metadata": {},
   "outputs": [
    {
     "data": {
      "text/plain": [
       "Pipeline(steps=[('polynomialfeatures', PolynomialFeatures()),\n",
       "                ('linearregression', LinearRegression())])"
      ]
     },
     "execution_count": 42,
     "metadata": {},
     "output_type": "execute_result"
    }
   ],
   "source": [
    "model_3 = make_pipeline(PolynomialFeatures(degree = 2),LinearRegression())\n",
    "model_3.fit(X, y3)"
   ]
  },
  {
   "cell_type": "code",
   "execution_count": 43,
   "metadata": {},
   "outputs": [
    {
     "data": {
      "text/plain": [
       "Pipeline(steps=[('polynomialfeatures', PolynomialFeatures()),\n",
       "                ('linearregression', LinearRegression())])"
      ]
     },
     "execution_count": 43,
     "metadata": {},
     "output_type": "execute_result"
    }
   ],
   "source": [
    "model_4 = make_pipeline(PolynomialFeatures(degree = 2),LinearRegression())\n",
    "model_4.fit(X, y4)"
   ]
  },
  {
   "cell_type": "code",
   "execution_count": 44,
   "metadata": {},
   "outputs": [
    {
     "data": {
      "text/plain": [
       "Pipeline(steps=[('polynomialfeatures', PolynomialFeatures()),\n",
       "                ('linearregression', LinearRegression())])"
      ]
     },
     "execution_count": 44,
     "metadata": {},
     "output_type": "execute_result"
    }
   ],
   "source": [
    "model_5 = make_pipeline(PolynomialFeatures(degree = 2),LinearRegression())\n",
    "model_5.fit(X, y5)"
   ]
  },
  {
   "cell_type": "code",
   "execution_count": 45,
   "metadata": {},
   "outputs": [
    {
     "data": {
      "text/plain": [
       "Text(0.5, 1.0, 'Other')"
      ]
     },
     "execution_count": 45,
     "metadata": {},
     "output_type": "execute_result"
    },
    {
     "data": {
      "image/png": "[encoded data removed]",
      "text/plain": [
       "<Figure size 1080x1080 with 5 Axes>"
      ]
     },
     "metadata": {
      "needs_background": "light"
     },
     "output_type": "display_data"
    }
   ],
   "source": [
    "plt.figure(figsize=(15, 15))\n",
    "plt.subplot(3,2,1)\n",
    "X_grid = np.arange(min(X), max(X), 1000) \n",
    "X_grid = X_grid.reshape((len(X_grid), 1))\n",
    "plt.scatter(X, y1, color = 'red')\n",
    "plt.plot(X_grid, model_1.predict(X_grid), color = 'black')\n",
    "plt.title('Total_Index')\n",
    "plt.subplot(3,2,2)\n",
    "X_grid = np.arange(min(X), max(X), 1000) \n",
    "X_grid = X_grid.reshape((len(X_grid), 1))\n",
    "plt.scatter(X, y2, color = 'red')\n",
    "plt.plot(X_grid, model_2.predict(X_grid), color = 'black')\n",
    "plt.title('Home')\n",
    "plt.subplot(3,2,3)\n",
    "X_grid = np.arange(min(X), max(X), 1000) \n",
    "X_grid = X_grid.reshape((len(X_grid), 1))\n",
    "plt.scatter(X, y3, color = 'red')\n",
    "plt.plot(X_grid, model_3.predict(X_grid), color = 'black')\n",
    "plt.title('Work')\n",
    "plt.subplot(3,2,4)\n",
    "X_grid = np.arange(min(X), max(X), 1000) \n",
    "X_grid = X_grid.reshape((len(X_grid), 1))\n",
    "plt.scatter(X, y4, color = 'red')\n",
    "plt.plot(X_grid, model_4.predict(X_grid), color = 'black')\n",
    "plt.title('School')\n",
    "plt.subplot(3,2,5)\n",
    "X_grid = np.arange(min(X), max(X), 1000) \n",
    "X_grid = X_grid.reshape((len(X_grid), 1))\n",
    "plt.scatter(X, y5, color = 'red')\n",
    "plt.plot(X_grid, model_5.predict(X_grid), color = 'black')\n",
    "plt.title('Other')"
   ]
  },
  {
   "cell_type": "markdown",
   "metadata": {},
   "source": [
    "### Inference"
   ]
  },
  {
   "cell_type": "markdown",
   "metadata": {},
   "source": [
    "• <b>Population Density</b> - <br/>\n",
    "The problem with population density to estimate the number of contacts for the country level data is not a good estimate since the total Area includes large areas which are not habitable and they reduce the actual population density. We cannot make the claim that the entire population is evenly spread. The population density may play a role where we can assume that the population is evenly spread such as the smaller areas such as cities."
   ]
  },
  {
   "cell_type": "markdown",
   "metadata": {},
   "source": [
    "# Mobility Time Series"
   ]
  },
  {
   "cell_type": "markdown",
   "metadata": {},
   "source": [
    "Lets try to first model the mobility time series for the country wise data which we have. The basic policy of evaluating the total contact per day - <br/>\n"
   ]
  },
  {
   "cell_type": "markdown",
   "metadata": {},
   "source": [
    "• Work contact - Workplace_mobility + school_mobility <br/>\n",
    "• Home contact - Home_mobility <br/>\n",
    "• Other contact - Park_mobility + grocery_mobility + recreational_mobility "
   ]
  },
  {
   "cell_type": "code",
   "execution_count": 46,
   "metadata": {},
   "outputs": [
    {
     "name": "stdout",
     "output_type": "stream",
     "text": [
      "Imported\n"
     ]
    }
   ],
   "source": [
    "recreat =  pd.read_csv(r\"C:\\Users\\varun\\Desktop\\Udacity\\UGP\\india\\recreational.csv\")\n",
    "home = pd.read_csv(r\"C:\\Users\\varun\\Desktop\\Udacity\\UGP\\india\\residential.csv\")\n",
    "work = pd.read_csv(r\"C:\\Users\\varun\\Desktop\\Udacity\\UGP\\india\\workplace.csv\")\n",
    "grocery = pd.read_csv(r\"C:\\Users\\varun\\Desktop\\Udacity\\UGP\\india\\grocery.csv\")\n",
    "park = pd.read_csv(r\"C:\\Users\\varun\\Desktop\\Udacity\\UGP\\india\\parks.csv\")\n",
    "print(\"Imported\")"
   ]
  },
  {
   "cell_type": "markdown",
   "metadata": {},
   "source": [
    "Residential mobility matrix is a factor that we are currently not sure how it will pan out so we can contruct two different kind of mobility matrix - <br/>\n",
    "• Residential included <br/>\n",
    "• Residential excluded"
   ]
  },
  {
   "cell_type": "code",
   "execution_count": 47,
   "metadata": {},
   "outputs": [
    {
     "data": {
      "text/html": [
       "<div>\n",
       "<style scoped>\n",
       "    .dataframe tbody tr th:only-of-type {\n",
       "        vertical-align: middle;\n",
       "    }\n",
       "\n",
       "    .dataframe tbody tr th {\n",
       "        vertical-align: top;\n",
       "    }\n",
       "\n",
       "    .dataframe thead th {\n",
       "        text-align: right;\n",
       "    }\n",
       "</style>\n",
       "<table border=\"1\" class=\"dataframe\">\n",
       "  <thead>\n",
       "    <tr style=\"text-align: right;\">\n",
       "      <th></th>\n",
       "      <th>Country</th>\n",
       "      <th>Population</th>\n",
       "      <th>Total_index</th>\n",
       "      <th>Home</th>\n",
       "      <th>Other</th>\n",
       "      <th>School</th>\n",
       "      <th>Work</th>\n",
       "      <th>Population_Density</th>\n",
       "      <th>Reproduction</th>\n",
       "      <th>Contact_by_population</th>\n",
       "    </tr>\n",
       "  </thead>\n",
       "  <tbody>\n",
       "    <tr>\n",
       "      <th>0</th>\n",
       "      <td>Albania</td>\n",
       "      <td>2880913</td>\n",
       "      <td>3.838068e+07</td>\n",
       "      <td>1.068326e+07</td>\n",
       "      <td>1.430326e+07</td>\n",
       "      <td>5.625936e+06</td>\n",
       "      <td>7.768229e+06</td>\n",
       "      <td>105.00</td>\n",
       "      <td>0.95</td>\n",
       "      <td>13.322403</td>\n",
       "    </tr>\n",
       "    <tr>\n",
       "      <th>1</th>\n",
       "      <td>Algeria</td>\n",
       "      <td>43053054</td>\n",
       "      <td>6.373596e+08</td>\n",
       "      <td>1.759553e+08</td>\n",
       "      <td>2.863821e+08</td>\n",
       "      <td>1.147987e+08</td>\n",
       "      <td>6.022355e+07</td>\n",
       "      <td>18.41</td>\n",
       "      <td>0.93</td>\n",
       "      <td>14.804050</td>\n",
       "    </tr>\n",
       "    <tr>\n",
       "      <th>2</th>\n",
       "      <td>Antigua and Barbuda</td>\n",
       "      <td>97115</td>\n",
       "      <td>1.584368e+06</td>\n",
       "      <td>4.161274e+05</td>\n",
       "      <td>5.464844e+05</td>\n",
       "      <td>2.242885e+05</td>\n",
       "      <td>3.974679e+05</td>\n",
       "      <td>222.60</td>\n",
       "      <td>1.40</td>\n",
       "      <td>16.314350</td>\n",
       "    </tr>\n",
       "    <tr>\n",
       "      <th>3</th>\n",
       "      <td>Argentina</td>\n",
       "      <td>44780675</td>\n",
       "      <td>6.731221e+08</td>\n",
       "      <td>2.020790e+08</td>\n",
       "      <td>2.373145e+08</td>\n",
       "      <td>9.613251e+07</td>\n",
       "      <td>1.375961e+08</td>\n",
       "      <td>16.52</td>\n",
       "      <td>0.94</td>\n",
       "      <td>15.031531</td>\n",
       "    </tr>\n",
       "    <tr>\n",
       "      <th>4</th>\n",
       "      <td>Armenia</td>\n",
       "      <td>2957728</td>\n",
       "      <td>4.185080e+07</td>\n",
       "      <td>1.164423e+07</td>\n",
       "      <td>1.455815e+07</td>\n",
       "      <td>6.163886e+06</td>\n",
       "      <td>9.484537e+06</td>\n",
       "      <td>104.10</td>\n",
       "      <td>1.10</td>\n",
       "      <td>14.149645</td>\n",
       "    </tr>\n",
       "  </tbody>\n",
       "</table>\n",
       "</div>"
      ],
      "text/plain": [
       "               Country  Population   Total_index          Home         Other  \\\n",
       "0              Albania     2880913  3.838068e+07  1.068326e+07  1.430326e+07   \n",
       "1              Algeria    43053054  6.373596e+08  1.759553e+08  2.863821e+08   \n",
       "2  Antigua and Barbuda       97115  1.584368e+06  4.161274e+05  5.464844e+05   \n",
       "3            Argentina    44780675  6.731221e+08  2.020790e+08  2.373145e+08   \n",
       "4              Armenia     2957728  4.185080e+07  1.164423e+07  1.455815e+07   \n",
       "\n",
       "         School          Work  Population_Density  Reproduction  \\\n",
       "0  5.625936e+06  7.768229e+06              105.00          0.95   \n",
       "1  1.147987e+08  6.022355e+07               18.41          0.93   \n",
       "2  2.242885e+05  3.974679e+05              222.60          1.40   \n",
       "3  9.613251e+07  1.375961e+08               16.52          0.94   \n",
       "4  6.163886e+06  9.484537e+06              104.10          1.10   \n",
       "\n",
       "   Contact_by_population  \n",
       "0              13.322403  \n",
       "1              14.804050  \n",
       "2              16.314350  \n",
       "3              15.031531  \n",
       "4              14.149645  "
      ]
     },
     "execution_count": 47,
     "metadata": {},
     "output_type": "execute_result"
    }
   ],
   "source": [
    "newdata_df.head()"
   ]
  },
  {
   "cell_type": "code",
   "execution_count": 48,
   "metadata": {},
   "outputs": [
    {
     "data": {
      "text/html": [
       "<div>\n",
       "<style scoped>\n",
       "    .dataframe tbody tr th:only-of-type {\n",
       "        vertical-align: middle;\n",
       "    }\n",
       "\n",
       "    .dataframe tbody tr th {\n",
       "        vertical-align: top;\n",
       "    }\n",
       "\n",
       "    .dataframe thead th {\n",
       "        text-align: right;\n",
       "    }\n",
       "</style>\n",
       "<table border=\"1\" class=\"dataframe\">\n",
       "  <thead>\n",
       "    <tr style=\"text-align: right;\">\n",
       "      <th></th>\n",
       "      <th>Country</th>\n",
       "      <th>Population</th>\n",
       "      <th>Total_index</th>\n",
       "      <th>Home</th>\n",
       "      <th>Other</th>\n",
       "      <th>School</th>\n",
       "      <th>Work</th>\n",
       "      <th>Population_Density</th>\n",
       "      <th>Reproduction</th>\n",
       "      <th>Contact_by_population</th>\n",
       "    </tr>\n",
       "  </thead>\n",
       "  <tbody>\n",
       "    <tr>\n",
       "      <th>56</th>\n",
       "      <td>India</td>\n",
       "      <td>1366417755</td>\n",
       "      <td>2.295968e+10</td>\n",
       "      <td>6.390442e+09</td>\n",
       "      <td>9.193240e+09</td>\n",
       "      <td>3.950034e+09</td>\n",
       "      <td>3.425965e+09</td>\n",
       "      <td>464.1</td>\n",
       "      <td>1.1</td>\n",
       "      <td>16.802827</td>\n",
       "    </tr>\n",
       "  </tbody>\n",
       "</table>\n",
       "</div>"
      ],
      "text/plain": [
       "   Country  Population   Total_index          Home         Other  \\\n",
       "56   India  1366417755  2.295968e+10  6.390442e+09  9.193240e+09   \n",
       "\n",
       "          School          Work  Population_Density  Reproduction  \\\n",
       "56  3.950034e+09  3.425965e+09               464.1           1.1   \n",
       "\n",
       "    Contact_by_population  \n",
       "56              16.802827  "
      ]
     },
     "execution_count": 48,
     "metadata": {},
     "output_type": "execute_result"
    }
   ],
   "source": [
    "df = newdata_df[newdata_df['Country'] == 'India']\n",
    "df.head()"
   ]
  },
  {
   "cell_type": "code",
   "execution_count": 49,
   "metadata": {},
   "outputs": [
    {
     "data": {
      "text/plain": [
       "6390441738.0"
      ]
     },
     "execution_count": 49,
     "metadata": {},
     "output_type": "execute_result"
    }
   ],
   "source": [
    "val = df['Home'].values[0]\n",
    "val"
   ]
  },
  {
   "cell_type": "code",
   "execution_count": 50,
   "metadata": {},
   "outputs": [
    {
     "data": {
      "text/html": [
       "<div>\n",
       "<style scoped>\n",
       "    .dataframe tbody tr th:only-of-type {\n",
       "        vertical-align: middle;\n",
       "    }\n",
       "\n",
       "    .dataframe tbody tr th {\n",
       "        vertical-align: top;\n",
       "    }\n",
       "\n",
       "    .dataframe thead th {\n",
       "        text-align: right;\n",
       "    }\n",
       "</style>\n",
       "<table border=\"1\" class=\"dataframe\">\n",
       "  <thead>\n",
       "    <tr style=\"text-align: right;\">\n",
       "      <th></th>\n",
       "      <th>Country</th>\n",
       "      <th>Code</th>\n",
       "      <th>Date</th>\n",
       "      <th>Percent</th>\n",
       "    </tr>\n",
       "  </thead>\n",
       "  <tbody>\n",
       "    <tr>\n",
       "      <th>0</th>\n",
       "      <td>India</td>\n",
       "      <td>IND</td>\n",
       "      <td>17-02-2020</td>\n",
       "      <td>0.667</td>\n",
       "    </tr>\n",
       "    <tr>\n",
       "      <th>1</th>\n",
       "      <td>India</td>\n",
       "      <td>IND</td>\n",
       "      <td>18-02-2020</td>\n",
       "      <td>0.500</td>\n",
       "    </tr>\n",
       "    <tr>\n",
       "      <th>2</th>\n",
       "      <td>India</td>\n",
       "      <td>IND</td>\n",
       "      <td>19-02-2020</td>\n",
       "      <td>0.400</td>\n",
       "    </tr>\n",
       "    <tr>\n",
       "      <th>3</th>\n",
       "      <td>India</td>\n",
       "      <td>IND</td>\n",
       "      <td>20-02-2020</td>\n",
       "      <td>0.500</td>\n",
       "    </tr>\n",
       "    <tr>\n",
       "      <th>4</th>\n",
       "      <td>India</td>\n",
       "      <td>IND</td>\n",
       "      <td>21-02-2020</td>\n",
       "      <td>-0.143</td>\n",
       "    </tr>\n",
       "  </tbody>\n",
       "</table>\n",
       "</div>"
      ],
      "text/plain": [
       "  Country Code        Date  Percent\n",
       "0   India  IND  17-02-2020    0.667\n",
       "1   India  IND  18-02-2020    0.500\n",
       "2   India  IND  19-02-2020    0.400\n",
       "3   India  IND  20-02-2020    0.500\n",
       "4   India  IND  21-02-2020   -0.143"
      ]
     },
     "execution_count": 50,
     "metadata": {},
     "output_type": "execute_result"
    }
   ],
   "source": [
    "recreat.head()"
   ]
  },
  {
   "cell_type": "code",
   "execution_count": 51,
   "metadata": {},
   "outputs": [
    {
     "data": {
      "text/html": [
       "<div>\n",
       "<style scoped>\n",
       "    .dataframe tbody tr th:only-of-type {\n",
       "        vertical-align: middle;\n",
       "    }\n",
       "\n",
       "    .dataframe tbody tr th {\n",
       "        vertical-align: top;\n",
       "    }\n",
       "\n",
       "    .dataframe thead th {\n",
       "        text-align: right;\n",
       "    }\n",
       "</style>\n",
       "<table border=\"1\" class=\"dataframe\">\n",
       "  <thead>\n",
       "    <tr style=\"text-align: right;\">\n",
       "      <th></th>\n",
       "      <th>Date</th>\n",
       "      <th>Contacts</th>\n",
       "    </tr>\n",
       "  </thead>\n",
       "  <tbody>\n",
       "    <tr>\n",
       "      <th>0</th>\n",
       "      <td>17-02-2020</td>\n",
       "      <td>2.334442e+10</td>\n",
       "    </tr>\n",
       "    <tr>\n",
       "      <th>1</th>\n",
       "      <td>18-02-2020</td>\n",
       "      <td>2.334950e+10</td>\n",
       "    </tr>\n",
       "    <tr>\n",
       "      <th>2</th>\n",
       "      <td>19-02-2020</td>\n",
       "      <td>2.336171e+10</td>\n",
       "    </tr>\n",
       "    <tr>\n",
       "      <th>3</th>\n",
       "      <td>20-02-2020</td>\n",
       "      <td>2.337918e+10</td>\n",
       "    </tr>\n",
       "    <tr>\n",
       "      <th>4</th>\n",
       "      <td>21-02-2020</td>\n",
       "      <td>2.317343e+10</td>\n",
       "    </tr>\n",
       "  </tbody>\n",
       "</table>\n",
       "</div>"
      ],
      "text/plain": [
       "         Date      Contacts\n",
       "0  17-02-2020  2.334442e+10\n",
       "1  18-02-2020  2.334950e+10\n",
       "2  19-02-2020  2.336171e+10\n",
       "3  20-02-2020  2.337918e+10\n",
       "4  21-02-2020  2.317343e+10"
      ]
     },
     "execution_count": 51,
     "metadata": {},
     "output_type": "execute_result"
    }
   ],
   "source": [
    "series = pd.DataFrame(columns = ['Date','Contacts'])\n",
    "series['Date'] = recreat['Date']\n",
    "series['Contacts'] = ((100 + work['Percent'])*(df['School'].values[0] + df['Work'].values[0]) + (100 +home['Percent'])*(df['Home'].values[0]) + (300 + recreat['Percent']+grocery['Percent']+park['Percent'])*df['Other'].values[0]/3)/100\n",
    "series.head()"
   ]
  },
  {
   "cell_type": "code",
   "execution_count": 52,
   "metadata": {},
   "outputs": [],
   "source": [
    "series[\"Date\"] = pd.to_datetime(series[\"Date\"])"
   ]
  },
  {
   "cell_type": "code",
   "execution_count": 53,
   "metadata": {},
   "outputs": [
    {
     "data": {
      "text/plain": [
       "<matplotlib.axes._subplots.AxesSubplot at 0x20152352408>"
      ]
     },
     "execution_count": 53,
     "metadata": {},
     "output_type": "execute_result"
    },
    {
     "data": {
      "image/png": "[encoded data removed]",
      "text/plain": [
       "<Figure size 864x576 with 1 Axes>"
      ]
     },
     "metadata": {
      "needs_background": "light"
     },
     "output_type": "display_data"
    }
   ],
   "source": [
    "plt.figure(figsize = (12,8))\n",
    "sns.lineplot(data = series[\"Contacts\"])"
   ]
  },
  {
   "cell_type": "markdown",
   "metadata": {},
   "source": [
    "Lets also check out the rolling index inorder to get a smooth curve. We will calculate 7day rolling index"
   ]
  },
  {
   "cell_type": "code",
   "execution_count": 54,
   "metadata": {},
   "outputs": [
    {
     "data": {
      "text/plain": [
       "23344416920.08962"
      ]
     },
     "execution_count": 54,
     "metadata": {},
     "output_type": "execute_result"
    }
   ],
   "source": [
    "series.loc[0,'Contacts']"
   ]
  },
  {
   "cell_type": "code",
   "execution_count": 55,
   "metadata": {},
   "outputs": [
    {
     "data": {
      "text/plain": [
       "345"
      ]
     },
     "execution_count": 55,
     "metadata": {},
     "output_type": "execute_result"
    }
   ],
   "source": [
    "(val,num) = series.shape\n",
    "val\n",
    "#No. of lines in our dataset"
   ]
  },
  {
   "cell_type": "code",
   "execution_count": 56,
   "metadata": {},
   "outputs": [],
   "source": [
    "ls = []\n",
    "for i in range(0,val):\n",
    "    temp = series.loc[i,'Contacts']\n",
    "    count = 1\n",
    "    if(i > 0):\n",
    "        temp += series.loc[i-1,'Contacts']\n",
    "        count += 1\n",
    "    if(i > 1):\n",
    "        temp += series.loc[i-2,'Contacts']\n",
    "        count += 1\n",
    "    if(i > 2):\n",
    "        temp += series.loc[i-3,'Contacts']\n",
    "        count += 1\n",
    "    if(i < val-1):\n",
    "        temp += series.loc[i+1,'Contacts']\n",
    "        count += 1\n",
    "    if(i < val-2):\n",
    "        temp += series.loc[i+2,'Contacts']\n",
    "        count += 1\n",
    "    if(i < val-3):\n",
    "        temp += series.loc[i+3,'Contacts']\n",
    "        count += 1\n",
    "    ls.append(temp/count)\n",
    "series['Smooth_contact'] = ls"
   ]
  },
  {
   "cell_type": "code",
   "execution_count": 57,
   "metadata": {},
   "outputs": [
    {
     "data": {
      "text/html": [
       "<div>\n",
       "<style scoped>\n",
       "    .dataframe tbody tr th:only-of-type {\n",
       "        vertical-align: middle;\n",
       "    }\n",
       "\n",
       "    .dataframe tbody tr th {\n",
       "        vertical-align: top;\n",
       "    }\n",
       "\n",
       "    .dataframe thead th {\n",
       "        text-align: right;\n",
       "    }\n",
       "</style>\n",
       "<table border=\"1\" class=\"dataframe\">\n",
       "  <thead>\n",
       "    <tr style=\"text-align: right;\">\n",
       "      <th></th>\n",
       "      <th>Date</th>\n",
       "      <th>Contacts</th>\n",
       "      <th>Smooth_contact</th>\n",
       "    </tr>\n",
       "  </thead>\n",
       "  <tbody>\n",
       "    <tr>\n",
       "      <th>0</th>\n",
       "      <td>2020-02-17</td>\n",
       "      <td>2.334442e+10</td>\n",
       "      <td>2.335870e+10</td>\n",
       "    </tr>\n",
       "    <tr>\n",
       "      <th>1</th>\n",
       "      <td>2020-02-18</td>\n",
       "      <td>2.334950e+10</td>\n",
       "      <td>2.332165e+10</td>\n",
       "    </tr>\n",
       "    <tr>\n",
       "      <th>2</th>\n",
       "      <td>2020-02-19</td>\n",
       "      <td>2.336171e+10</td>\n",
       "      <td>2.328180e+10</td>\n",
       "    </tr>\n",
       "    <tr>\n",
       "      <th>3</th>\n",
       "      <td>2020-02-20</td>\n",
       "      <td>2.337918e+10</td>\n",
       "      <td>2.325203e+10</td>\n",
       "    </tr>\n",
       "    <tr>\n",
       "      <th>4</th>\n",
       "      <td>2020-02-21</td>\n",
       "      <td>2.317343e+10</td>\n",
       "      <td>2.321206e+10</td>\n",
       "    </tr>\n",
       "  </tbody>\n",
       "</table>\n",
       "</div>"
      ],
      "text/plain": [
       "        Date      Contacts  Smooth_contact\n",
       "0 2020-02-17  2.334442e+10    2.335870e+10\n",
       "1 2020-02-18  2.334950e+10    2.332165e+10\n",
       "2 2020-02-19  2.336171e+10    2.328180e+10\n",
       "3 2020-02-20  2.337918e+10    2.325203e+10\n",
       "4 2020-02-21  2.317343e+10    2.321206e+10"
      ]
     },
     "execution_count": 57,
     "metadata": {},
     "output_type": "execute_result"
    }
   ],
   "source": [
    "series.head()"
   ]
  },
  {
   "cell_type": "code",
   "execution_count": 58,
   "metadata": {},
   "outputs": [
    {
     "data": {
      "text/plain": [
       "<matplotlib.axes._subplots.AxesSubplot at 0x201070ecb88>"
      ]
     },
     "execution_count": 58,
     "metadata": {},
     "output_type": "execute_result"
    },
    {
     "data": {
      "image/png": "[encoded data removed]",
      "text/plain": [
       "<Figure size 864x576 with 1 Axes>"
      ]
     },
     "metadata": {
      "needs_background": "light"
     },
     "output_type": "display_data"
    }
   ],
   "source": [
    "plt.figure(figsize = (12,8))\n",
    "sns.lineplot(data = series[\"Smooth_contact\"])"
   ]
  },
  {
   "cell_type": "markdown",
   "metadata": {},
   "source": [
    "## Correlation Initial Contact and Beta"
   ]
  },
  {
   "cell_type": "code",
   "execution_count": 59,
   "metadata": {},
   "outputs": [
    {
     "data": {
      "text/html": [
       "<div>\n",
       "<style scoped>\n",
       "    .dataframe tbody tr th:only-of-type {\n",
       "        vertical-align: middle;\n",
       "    }\n",
       "\n",
       "    .dataframe tbody tr th {\n",
       "        vertical-align: top;\n",
       "    }\n",
       "\n",
       "    .dataframe thead th {\n",
       "        text-align: right;\n",
       "    }\n",
       "</style>\n",
       "<table border=\"1\" class=\"dataframe\">\n",
       "  <thead>\n",
       "    <tr style=\"text-align: right;\">\n",
       "      <th></th>\n",
       "      <th>District Name</th>\n",
       "      <th>Kpar1</th>\n",
       "      <th>Kpar2</th>\n",
       "      <th>Kpar3</th>\n",
       "      <th>Kpar4</th>\n",
       "      <th>Kpar5</th>\n",
       "      <th>Population</th>\n",
       "    </tr>\n",
       "  </thead>\n",
       "  <tbody>\n",
       "    <tr>\n",
       "      <th>0</th>\n",
       "      <td>AP_Anantapuram</td>\n",
       "      <td>0.126320</td>\n",
       "      <td>0.194583</td>\n",
       "      <td>0.205823</td>\n",
       "      <td>0.001022</td>\n",
       "      <td>0.000886</td>\n",
       "      <td>4083315</td>\n",
       "    </tr>\n",
       "    <tr>\n",
       "      <th>1</th>\n",
       "      <td>AP_Guntur</td>\n",
       "      <td>0.096631</td>\n",
       "      <td>0.133225</td>\n",
       "      <td>0.147598</td>\n",
       "      <td>0.001067</td>\n",
       "      <td>0.002730</td>\n",
       "      <td>4889230</td>\n",
       "    </tr>\n",
       "    <tr>\n",
       "      <th>2</th>\n",
       "      <td>AP_Krishna</td>\n",
       "      <td>0.117666</td>\n",
       "      <td>0.145463</td>\n",
       "      <td>0.261923</td>\n",
       "      <td>0.001746</td>\n",
       "      <td>0.000610</td>\n",
       "      <td>4529009</td>\n",
       "    </tr>\n",
       "    <tr>\n",
       "      <th>3</th>\n",
       "      <td>AP_Kurnool</td>\n",
       "      <td>0.078113</td>\n",
       "      <td>0.141592</td>\n",
       "      <td>0.073303</td>\n",
       "      <td>0.000669</td>\n",
       "      <td>0.003767</td>\n",
       "      <td>4046601</td>\n",
       "    </tr>\n",
       "    <tr>\n",
       "      <th>4</th>\n",
       "      <td>AP_Srikakulam</td>\n",
       "      <td>0.110162</td>\n",
       "      <td>0.153025</td>\n",
       "      <td>0.207779</td>\n",
       "      <td>0.000963</td>\n",
       "      <td>0.001261</td>\n",
       "      <td>2699471</td>\n",
       "    </tr>\n",
       "  </tbody>\n",
       "</table>\n",
       "</div>"
      ],
      "text/plain": [
       "    District Name     Kpar1     Kpar2     Kpar3     Kpar4     Kpar5  \\\n",
       "0  AP_Anantapuram  0.126320  0.194583  0.205823  0.001022  0.000886   \n",
       "1       AP_Guntur  0.096631  0.133225  0.147598  0.001067  0.002730   \n",
       "2      AP_Krishna  0.117666  0.145463  0.261923  0.001746  0.000610   \n",
       "3      AP_Kurnool  0.078113  0.141592  0.073303  0.000669  0.003767   \n",
       "4   AP_Srikakulam  0.110162  0.153025  0.207779  0.000963  0.001261   \n",
       "\n",
       "   Population  \n",
       "0     4083315  \n",
       "1     4889230  \n",
       "2     4529009  \n",
       "3     4046601  \n",
       "4     2699471  "
      ]
     },
     "execution_count": 59,
     "metadata": {},
     "output_type": "execute_result"
    }
   ],
   "source": [
    "main_df = pd.read_csv(r\"C:\\Users\\varun\\Desktop\\Udacity\\UGP\\Mobility\\Beta_values.csv\")\n",
    "main_df.drop(['Unnamed: 0'], axis = 1, inplace = True)\n",
    "main_df.head()"
   ]
  },
  {
   "cell_type": "code",
   "execution_count": 60,
   "metadata": {},
   "outputs": [
    {
     "data": {
      "text/plain": [
       "477"
      ]
     },
     "execution_count": 60,
     "metadata": {},
     "output_type": "execute_result"
    }
   ],
   "source": [
    "X = main_df['Population'].values\n",
    "X = X.reshape(-1,1)\n",
    "len(X)"
   ]
  },
  {
   "cell_type": "code",
   "execution_count": 61,
   "metadata": {},
   "outputs": [],
   "source": [
    "y = model_1.predict(X)"
   ]
  },
  {
   "cell_type": "code",
   "execution_count": 62,
   "metadata": {},
   "outputs": [],
   "source": [
    "new = main_df['Kpar2'].values"
   ]
  },
  {
   "cell_type": "code",
   "execution_count": 63,
   "metadata": {},
   "outputs": [
    {
     "data": {
      "text/plain": [
       "<matplotlib.collections.PathCollection at 0x20149ea1f88>"
      ]
     },
     "execution_count": 63,
     "metadata": {},
     "output_type": "execute_result"
    },
    {
     "data": {
      "image/png": "[encoded data removed]",
      "text/plain": [
       "<Figure size 432x288 with 1 Axes>"
      ]
     },
     "metadata": {
      "needs_background": "light"
     },
     "output_type": "display_data"
    }
   ],
   "source": [
    "plt.scatter(y,new,c = \"blue\")"
   ]
  },
  {
   "cell_type": "code",
   "execution_count": 64,
   "metadata": {},
   "outputs": [
    {
     "data": {
      "text/html": [
       "<div>\n",
       "<style scoped>\n",
       "    .dataframe tbody tr th:only-of-type {\n",
       "        vertical-align: middle;\n",
       "    }\n",
       "\n",
       "    .dataframe tbody tr th {\n",
       "        vertical-align: top;\n",
       "    }\n",
       "\n",
       "    .dataframe thead th {\n",
       "        text-align: right;\n",
       "    }\n",
       "</style>\n",
       "<table border=\"1\" class=\"dataframe\">\n",
       "  <thead>\n",
       "    <tr style=\"text-align: right;\">\n",
       "      <th></th>\n",
       "      <th>Kpar1</th>\n",
       "      <th>Kpar2</th>\n",
       "      <th>Kpar3</th>\n",
       "      <th>Kpar4</th>\n",
       "      <th>Kpar5</th>\n",
       "      <th>Population</th>\n",
       "    </tr>\n",
       "  </thead>\n",
       "  <tbody>\n",
       "    <tr>\n",
       "      <th>Kpar1</th>\n",
       "      <td>1.000000</td>\n",
       "      <td>0.623878</td>\n",
       "      <td>0.021214</td>\n",
       "      <td>0.123481</td>\n",
       "      <td>-0.123740</td>\n",
       "      <td>0.008203</td>\n",
       "    </tr>\n",
       "    <tr>\n",
       "      <th>Kpar2</th>\n",
       "      <td>0.623878</td>\n",
       "      <td>1.000000</td>\n",
       "      <td>0.274606</td>\n",
       "      <td>0.049203</td>\n",
       "      <td>0.036193</td>\n",
       "      <td>0.075051</td>\n",
       "    </tr>\n",
       "    <tr>\n",
       "      <th>Kpar3</th>\n",
       "      <td>0.021214</td>\n",
       "      <td>0.274606</td>\n",
       "      <td>1.000000</td>\n",
       "      <td>-0.000446</td>\n",
       "      <td>-0.100607</td>\n",
       "      <td>0.017416</td>\n",
       "    </tr>\n",
       "    <tr>\n",
       "      <th>Kpar4</th>\n",
       "      <td>0.123481</td>\n",
       "      <td>0.049203</td>\n",
       "      <td>-0.000446</td>\n",
       "      <td>1.000000</td>\n",
       "      <td>0.146809</td>\n",
       "      <td>-0.030176</td>\n",
       "    </tr>\n",
       "    <tr>\n",
       "      <th>Kpar5</th>\n",
       "      <td>-0.123740</td>\n",
       "      <td>0.036193</td>\n",
       "      <td>-0.100607</td>\n",
       "      <td>0.146809</td>\n",
       "      <td>1.000000</td>\n",
       "      <td>0.126278</td>\n",
       "    </tr>\n",
       "    <tr>\n",
       "      <th>Population</th>\n",
       "      <td>0.008203</td>\n",
       "      <td>0.075051</td>\n",
       "      <td>0.017416</td>\n",
       "      <td>-0.030176</td>\n",
       "      <td>0.126278</td>\n",
       "      <td>1.000000</td>\n",
       "    </tr>\n",
       "  </tbody>\n",
       "</table>\n",
       "</div>"
      ],
      "text/plain": [
       "               Kpar1     Kpar2     Kpar3     Kpar4     Kpar5  Population\n",
       "Kpar1       1.000000  0.623878  0.021214  0.123481 -0.123740    0.008203\n",
       "Kpar2       0.623878  1.000000  0.274606  0.049203  0.036193    0.075051\n",
       "Kpar3       0.021214  0.274606  1.000000 -0.000446 -0.100607    0.017416\n",
       "Kpar4       0.123481  0.049203 -0.000446  1.000000  0.146809   -0.030176\n",
       "Kpar5      -0.123740  0.036193 -0.100607  0.146809  1.000000    0.126278\n",
       "Population  0.008203  0.075051  0.017416 -0.030176  0.126278    1.000000"
      ]
     },
     "execution_count": 64,
     "metadata": {},
     "output_type": "execute_result"
    }
   ],
   "source": [
    "main_df.corr()"
   ]
  },
  {
   "cell_type": "markdown",
   "metadata": {},
   "source": [
    "## Mobility Time series for districts (Example)"
   ]
  },
  {
   "cell_type": "code",
   "execution_count": 65,
   "metadata": {},
   "outputs": [
    {
     "data": {
      "text/html": [
       "<div>\n",
       "<style scoped>\n",
       "    .dataframe tbody tr th:only-of-type {\n",
       "        vertical-align: middle;\n",
       "    }\n",
       "\n",
       "    .dataframe tbody tr th {\n",
       "        vertical-align: top;\n",
       "    }\n",
       "\n",
       "    .dataframe thead th {\n",
       "        text-align: right;\n",
       "    }\n",
       "</style>\n",
       "<table border=\"1\" class=\"dataframe\">\n",
       "  <thead>\n",
       "    <tr style=\"text-align: right;\">\n",
       "      <th></th>\n",
       "      <th>country_region_code</th>\n",
       "      <th>country_region</th>\n",
       "      <th>sub_region_1</th>\n",
       "      <th>sub_region_2</th>\n",
       "      <th>metro_area</th>\n",
       "      <th>iso_3166_2_code</th>\n",
       "      <th>census_fips_code</th>\n",
       "      <th>place_id</th>\n",
       "      <th>date</th>\n",
       "      <th>recreation</th>\n",
       "      <th>grocery</th>\n",
       "      <th>parks</th>\n",
       "      <th>stations</th>\n",
       "      <th>workplace</th>\n",
       "      <th>home</th>\n",
       "    </tr>\n",
       "  </thead>\n",
       "  <tbody>\n",
       "    <tr>\n",
       "      <th>0</th>\n",
       "      <td>IN</td>\n",
       "      <td>India</td>\n",
       "      <td>NaN</td>\n",
       "      <td>NaN</td>\n",
       "      <td>NaN</td>\n",
       "      <td>NaN</td>\n",
       "      <td>NaN</td>\n",
       "      <td>ChIJkbeSa_BfYzARphNChaFPjNc</td>\n",
       "      <td>15-02-2020</td>\n",
       "      <td>1.0</td>\n",
       "      <td>2.0</td>\n",
       "      <td>3.0</td>\n",
       "      <td>3.0</td>\n",
       "      <td>5.0</td>\n",
       "      <td>0.0</td>\n",
       "    </tr>\n",
       "    <tr>\n",
       "      <th>1</th>\n",
       "      <td>IN</td>\n",
       "      <td>India</td>\n",
       "      <td>NaN</td>\n",
       "      <td>NaN</td>\n",
       "      <td>NaN</td>\n",
       "      <td>NaN</td>\n",
       "      <td>NaN</td>\n",
       "      <td>ChIJkbeSa_BfYzARphNChaFPjNc</td>\n",
       "      <td>16-02-2020</td>\n",
       "      <td>2.0</td>\n",
       "      <td>2.0</td>\n",
       "      <td>3.0</td>\n",
       "      <td>2.0</td>\n",
       "      <td>0.0</td>\n",
       "      <td>0.0</td>\n",
       "    </tr>\n",
       "    <tr>\n",
       "      <th>2</th>\n",
       "      <td>IN</td>\n",
       "      <td>India</td>\n",
       "      <td>NaN</td>\n",
       "      <td>NaN</td>\n",
       "      <td>NaN</td>\n",
       "      <td>NaN</td>\n",
       "      <td>NaN</td>\n",
       "      <td>ChIJkbeSa_BfYzARphNChaFPjNc</td>\n",
       "      <td>17-02-2020</td>\n",
       "      <td>-1.0</td>\n",
       "      <td>1.0</td>\n",
       "      <td>3.0</td>\n",
       "      <td>1.0</td>\n",
       "      <td>4.0</td>\n",
       "      <td>0.0</td>\n",
       "    </tr>\n",
       "    <tr>\n",
       "      <th>3</th>\n",
       "      <td>IN</td>\n",
       "      <td>India</td>\n",
       "      <td>NaN</td>\n",
       "      <td>NaN</td>\n",
       "      <td>NaN</td>\n",
       "      <td>NaN</td>\n",
       "      <td>NaN</td>\n",
       "      <td>ChIJkbeSa_BfYzARphNChaFPjNc</td>\n",
       "      <td>18-02-2020</td>\n",
       "      <td>0.0</td>\n",
       "      <td>2.0</td>\n",
       "      <td>4.0</td>\n",
       "      <td>2.0</td>\n",
       "      <td>3.0</td>\n",
       "      <td>0.0</td>\n",
       "    </tr>\n",
       "    <tr>\n",
       "      <th>4</th>\n",
       "      <td>IN</td>\n",
       "      <td>India</td>\n",
       "      <td>NaN</td>\n",
       "      <td>NaN</td>\n",
       "      <td>NaN</td>\n",
       "      <td>NaN</td>\n",
       "      <td>NaN</td>\n",
       "      <td>ChIJkbeSa_BfYzARphNChaFPjNc</td>\n",
       "      <td>19-02-2020</td>\n",
       "      <td>0.0</td>\n",
       "      <td>2.0</td>\n",
       "      <td>1.0</td>\n",
       "      <td>1.0</td>\n",
       "      <td>4.0</td>\n",
       "      <td>1.0</td>\n",
       "    </tr>\n",
       "  </tbody>\n",
       "</table>\n",
       "</div>"
      ],
      "text/plain": [
       "  country_region_code country_region sub_region_1 sub_region_2  metro_area  \\\n",
       "0                  IN          India          NaN          NaN         NaN   \n",
       "1                  IN          India          NaN          NaN         NaN   \n",
       "2                  IN          India          NaN          NaN         NaN   \n",
       "3                  IN          India          NaN          NaN         NaN   \n",
       "4                  IN          India          NaN          NaN         NaN   \n",
       "\n",
       "  iso_3166_2_code  census_fips_code                     place_id        date  \\\n",
       "0             NaN               NaN  ChIJkbeSa_BfYzARphNChaFPjNc  15-02-2020   \n",
       "1             NaN               NaN  ChIJkbeSa_BfYzARphNChaFPjNc  16-02-2020   \n",
       "2             NaN               NaN  ChIJkbeSa_BfYzARphNChaFPjNc  17-02-2020   \n",
       "3             NaN               NaN  ChIJkbeSa_BfYzARphNChaFPjNc  18-02-2020   \n",
       "4             NaN               NaN  ChIJkbeSa_BfYzARphNChaFPjNc  19-02-2020   \n",
       "\n",
       "   recreation  grocery  parks  stations  workplace  home  \n",
       "0         1.0      2.0    3.0       3.0        5.0   0.0  \n",
       "1         2.0      2.0    3.0       2.0        0.0   0.0  \n",
       "2        -1.0      1.0    3.0       1.0        4.0   0.0  \n",
       "3         0.0      2.0    4.0       2.0        3.0   0.0  \n",
       "4         0.0      2.0    1.0       1.0        4.0   1.0  "
      ]
     },
     "execution_count": 65,
     "metadata": {},
     "output_type": "execute_result"
    }
   ],
   "source": [
    "df = pd.read_csv(r\"C:\\Users\\varun\\Desktop\\Udacity\\UGP\\Mobility\\India.csv\")\n",
    "df.head()"
   ]
  },
  {
   "cell_type": "markdown",
   "metadata": {},
   "source": [
    "Inorder to operate between two datasets first we need to manipulate the reference tokens which in this case are the states and cities such that we have them in comparable terms"
   ]
  },
  {
   "cell_type": "code",
   "execution_count": 66,
   "metadata": {},
   "outputs": [],
   "source": [
    "main_df= main_df.applymap(lambda s:s.lower() if type(s) == str else s)"
   ]
  },
  {
   "cell_type": "code",
   "execution_count": 67,
   "metadata": {},
   "outputs": [
    {
     "data": {
      "text/html": [
       "<div>\n",
       "<style scoped>\n",
       "    .dataframe tbody tr th:only-of-type {\n",
       "        vertical-align: middle;\n",
       "    }\n",
       "\n",
       "    .dataframe tbody tr th {\n",
       "        vertical-align: top;\n",
       "    }\n",
       "\n",
       "    .dataframe thead th {\n",
       "        text-align: right;\n",
       "    }\n",
       "</style>\n",
       "<table border=\"1\" class=\"dataframe\">\n",
       "  <thead>\n",
       "    <tr style=\"text-align: right;\">\n",
       "      <th></th>\n",
       "      <th>District Name</th>\n",
       "      <th>Kpar1</th>\n",
       "      <th>Kpar2</th>\n",
       "      <th>Kpar3</th>\n",
       "      <th>Kpar4</th>\n",
       "      <th>Kpar5</th>\n",
       "      <th>Population</th>\n",
       "    </tr>\n",
       "  </thead>\n",
       "  <tbody>\n",
       "    <tr>\n",
       "      <th>0</th>\n",
       "      <td>ap_anantapuram</td>\n",
       "      <td>0.126320</td>\n",
       "      <td>0.194583</td>\n",
       "      <td>0.205823</td>\n",
       "      <td>0.001022</td>\n",
       "      <td>0.000886</td>\n",
       "      <td>4083315</td>\n",
       "    </tr>\n",
       "    <tr>\n",
       "      <th>1</th>\n",
       "      <td>ap_guntur</td>\n",
       "      <td>0.096631</td>\n",
       "      <td>0.133225</td>\n",
       "      <td>0.147598</td>\n",
       "      <td>0.001067</td>\n",
       "      <td>0.002730</td>\n",
       "      <td>4889230</td>\n",
       "    </tr>\n",
       "    <tr>\n",
       "      <th>2</th>\n",
       "      <td>ap_krishna</td>\n",
       "      <td>0.117666</td>\n",
       "      <td>0.145463</td>\n",
       "      <td>0.261923</td>\n",
       "      <td>0.001746</td>\n",
       "      <td>0.000610</td>\n",
       "      <td>4529009</td>\n",
       "    </tr>\n",
       "    <tr>\n",
       "      <th>3</th>\n",
       "      <td>ap_kurnool</td>\n",
       "      <td>0.078113</td>\n",
       "      <td>0.141592</td>\n",
       "      <td>0.073303</td>\n",
       "      <td>0.000669</td>\n",
       "      <td>0.003767</td>\n",
       "      <td>4046601</td>\n",
       "    </tr>\n",
       "    <tr>\n",
       "      <th>4</th>\n",
       "      <td>ap_srikakulam</td>\n",
       "      <td>0.110162</td>\n",
       "      <td>0.153025</td>\n",
       "      <td>0.207779</td>\n",
       "      <td>0.000963</td>\n",
       "      <td>0.001261</td>\n",
       "      <td>2699471</td>\n",
       "    </tr>\n",
       "  </tbody>\n",
       "</table>\n",
       "</div>"
      ],
      "text/plain": [
       "    District Name     Kpar1     Kpar2     Kpar3     Kpar4     Kpar5  \\\n",
       "0  ap_anantapuram  0.126320  0.194583  0.205823  0.001022  0.000886   \n",
       "1       ap_guntur  0.096631  0.133225  0.147598  0.001067  0.002730   \n",
       "2      ap_krishna  0.117666  0.145463  0.261923  0.001746  0.000610   \n",
       "3      ap_kurnool  0.078113  0.141592  0.073303  0.000669  0.003767   \n",
       "4   ap_srikakulam  0.110162  0.153025  0.207779  0.000963  0.001261   \n",
       "\n",
       "   Population  \n",
       "0     4083315  \n",
       "1     4889230  \n",
       "2     4529009  \n",
       "3     4046601  \n",
       "4     2699471  "
      ]
     },
     "execution_count": 67,
     "metadata": {},
     "output_type": "execute_result"
    }
   ],
   "source": [
    "main_df.head()"
   ]
  },
  {
   "cell_type": "markdown",
   "metadata": {},
   "source": [
    "Now we need to divide the district name into state and city"
   ]
  },
  {
   "cell_type": "code",
   "execution_count": 68,
   "metadata": {},
   "outputs": [
    {
     "data": {
      "text/plain": [
       "477"
      ]
     },
     "execution_count": 68,
     "metadata": {},
     "output_type": "execute_result"
    }
   ],
   "source": [
    "(val,num) = main_df.shape\n",
    "val"
   ]
  },
  {
   "cell_type": "code",
   "execution_count": 69,
   "metadata": {},
   "outputs": [],
   "source": [
    "l1 = []\n",
    "l2 = []\n",
    "for i in range(0,val):\n",
    "    s = main_df.loc[i,'District Name']\n",
    "    s = s.split(\"_\")\n",
    "    l1.append(s[0])\n",
    "    l2.append(s[1])\n",
    "main_df['State'] = l1\n",
    "main_df['City'] = l2"
   ]
  },
  {
   "cell_type": "code",
   "execution_count": 70,
   "metadata": {},
   "outputs": [
    {
     "data": {
      "text/html": [
       "<div>\n",
       "<style scoped>\n",
       "    .dataframe tbody tr th:only-of-type {\n",
       "        vertical-align: middle;\n",
       "    }\n",
       "\n",
       "    .dataframe tbody tr th {\n",
       "        vertical-align: top;\n",
       "    }\n",
       "\n",
       "    .dataframe thead th {\n",
       "        text-align: right;\n",
       "    }\n",
       "</style>\n",
       "<table border=\"1\" class=\"dataframe\">\n",
       "  <thead>\n",
       "    <tr style=\"text-align: right;\">\n",
       "      <th></th>\n",
       "      <th>District Name</th>\n",
       "      <th>Kpar1</th>\n",
       "      <th>Kpar2</th>\n",
       "      <th>Kpar3</th>\n",
       "      <th>Kpar4</th>\n",
       "      <th>Kpar5</th>\n",
       "      <th>Population</th>\n",
       "      <th>State</th>\n",
       "      <th>City</th>\n",
       "    </tr>\n",
       "  </thead>\n",
       "  <tbody>\n",
       "    <tr>\n",
       "      <th>0</th>\n",
       "      <td>ap_anantapuram</td>\n",
       "      <td>0.126320</td>\n",
       "      <td>0.194583</td>\n",
       "      <td>0.205823</td>\n",
       "      <td>0.001022</td>\n",
       "      <td>0.000886</td>\n",
       "      <td>4083315</td>\n",
       "      <td>ap</td>\n",
       "      <td>anantapuram</td>\n",
       "    </tr>\n",
       "    <tr>\n",
       "      <th>1</th>\n",
       "      <td>ap_guntur</td>\n",
       "      <td>0.096631</td>\n",
       "      <td>0.133225</td>\n",
       "      <td>0.147598</td>\n",
       "      <td>0.001067</td>\n",
       "      <td>0.002730</td>\n",
       "      <td>4889230</td>\n",
       "      <td>ap</td>\n",
       "      <td>guntur</td>\n",
       "    </tr>\n",
       "    <tr>\n",
       "      <th>2</th>\n",
       "      <td>ap_krishna</td>\n",
       "      <td>0.117666</td>\n",
       "      <td>0.145463</td>\n",
       "      <td>0.261923</td>\n",
       "      <td>0.001746</td>\n",
       "      <td>0.000610</td>\n",
       "      <td>4529009</td>\n",
       "      <td>ap</td>\n",
       "      <td>krishna</td>\n",
       "    </tr>\n",
       "    <tr>\n",
       "      <th>3</th>\n",
       "      <td>ap_kurnool</td>\n",
       "      <td>0.078113</td>\n",
       "      <td>0.141592</td>\n",
       "      <td>0.073303</td>\n",
       "      <td>0.000669</td>\n",
       "      <td>0.003767</td>\n",
       "      <td>4046601</td>\n",
       "      <td>ap</td>\n",
       "      <td>kurnool</td>\n",
       "    </tr>\n",
       "    <tr>\n",
       "      <th>4</th>\n",
       "      <td>ap_srikakulam</td>\n",
       "      <td>0.110162</td>\n",
       "      <td>0.153025</td>\n",
       "      <td>0.207779</td>\n",
       "      <td>0.000963</td>\n",
       "      <td>0.001261</td>\n",
       "      <td>2699471</td>\n",
       "      <td>ap</td>\n",
       "      <td>srikakulam</td>\n",
       "    </tr>\n",
       "  </tbody>\n",
       "</table>\n",
       "</div>"
      ],
      "text/plain": [
       "    District Name     Kpar1     Kpar2     Kpar3     Kpar4     Kpar5  \\\n",
       "0  ap_anantapuram  0.126320  0.194583  0.205823  0.001022  0.000886   \n",
       "1       ap_guntur  0.096631  0.133225  0.147598  0.001067  0.002730   \n",
       "2      ap_krishna  0.117666  0.145463  0.261923  0.001746  0.000610   \n",
       "3      ap_kurnool  0.078113  0.141592  0.073303  0.000669  0.003767   \n",
       "4   ap_srikakulam  0.110162  0.153025  0.207779  0.000963  0.001261   \n",
       "\n",
       "   Population State         City  \n",
       "0     4083315    ap  anantapuram  \n",
       "1     4889230    ap       guntur  \n",
       "2     4529009    ap      krishna  \n",
       "3     4046601    ap      kurnool  \n",
       "4     2699471    ap   srikakulam  "
      ]
     },
     "execution_count": 70,
     "metadata": {},
     "output_type": "execute_result"
    }
   ],
   "source": [
    "main_df.head()"
   ]
  },
  {
   "cell_type": "code",
   "execution_count": 71,
   "metadata": {},
   "outputs": [
    {
     "ename": "TypeError",
     "evalue": "can only concatenate str (not \"list\") to str",
     "output_type": "error",
     "traceback": [
      "\u001b[1;31m---------------------------------------------------------------------------\u001b[0m",
      "\u001b[1;31mTypeError\u001b[0m                                 Traceback (most recent call last)",
      "\u001b[1;32m<ipython-input-71-bc8ff829f318>\u001b[0m in \u001b[0;36m<module>\u001b[1;34m\u001b[0m\n\u001b[1;32m----> 1\u001b[1;33m \u001b[0mst\u001b[0m \u001b[1;33m=\u001b[0m \u001b[1;34m\"C:\\\\Users\\\\varun\\\\Desktop\\\\Udacity\\\\UGP\\\\Mobility_city\\\\\"\u001b[0m \u001b[1;33m+\u001b[0m \u001b[0ms\u001b[0m \u001b[1;33m+\u001b[0m \u001b[1;34m\".csv\"\u001b[0m\u001b[1;33m\u001b[0m\u001b[1;33m\u001b[0m\u001b[0m\n\u001b[0m\u001b[0;32m      2\u001b[0m \u001b[0mmain_df\u001b[0m\u001b[1;33m.\u001b[0m\u001b[0mto_csv\u001b[0m\u001b[1;33m(\u001b[0m\u001b[0mst\u001b[0m\u001b[1;33m,\u001b[0m \u001b[0mindex\u001b[0m\u001b[1;33m=\u001b[0m\u001b[1;32mFalse\u001b[0m\u001b[1;33m)\u001b[0m\u001b[1;33m\u001b[0m\u001b[1;33m\u001b[0m\u001b[0m\n",
      "\u001b[1;31mTypeError\u001b[0m: can only concatenate str (not \"list\") to str"
     ]
    }
   ],
   "source": [
    "st = \"C:\\\\Users\\\\varun\\\\Desktop\\\\Udacity\\\\UGP\\\\Mobility_city\\\\\" + s + \".csv\"\n",
    "main_df.to_csv(st, index=False)"
   ]
  },
  {
   "cell_type": "markdown",
   "metadata": {},
   "source": [
    "We have successfully fixed one of the dataset, lets fix the second one"
   ]
  },
  {
   "cell_type": "code",
   "execution_count": 72,
   "metadata": {},
   "outputs": [
    {
     "data": {
      "text/html": [
       "<div>\n",
       "<style scoped>\n",
       "    .dataframe tbody tr th:only-of-type {\n",
       "        vertical-align: middle;\n",
       "    }\n",
       "\n",
       "    .dataframe tbody tr th {\n",
       "        vertical-align: top;\n",
       "    }\n",
       "\n",
       "    .dataframe thead th {\n",
       "        text-align: right;\n",
       "    }\n",
       "</style>\n",
       "<table border=\"1\" class=\"dataframe\">\n",
       "  <thead>\n",
       "    <tr style=\"text-align: right;\">\n",
       "      <th></th>\n",
       "      <th>country_region_code</th>\n",
       "      <th>country_region</th>\n",
       "      <th>sub_region_1</th>\n",
       "      <th>sub_region_2</th>\n",
       "      <th>metro_area</th>\n",
       "      <th>iso_3166_2_code</th>\n",
       "      <th>census_fips_code</th>\n",
       "      <th>place_id</th>\n",
       "      <th>date</th>\n",
       "      <th>recreation</th>\n",
       "      <th>grocery</th>\n",
       "      <th>parks</th>\n",
       "      <th>stations</th>\n",
       "      <th>workplace</th>\n",
       "      <th>home</th>\n",
       "    </tr>\n",
       "  </thead>\n",
       "  <tbody>\n",
       "    <tr>\n",
       "      <th>0</th>\n",
       "      <td>in</td>\n",
       "      <td>india</td>\n",
       "      <td>NaN</td>\n",
       "      <td>NaN</td>\n",
       "      <td>NaN</td>\n",
       "      <td>NaN</td>\n",
       "      <td>NaN</td>\n",
       "      <td>chijkbesa_bfyzarphnchafpjnc</td>\n",
       "      <td>15-02-2020</td>\n",
       "      <td>1.0</td>\n",
       "      <td>2.0</td>\n",
       "      <td>3.0</td>\n",
       "      <td>3.0</td>\n",
       "      <td>5.0</td>\n",
       "      <td>0.0</td>\n",
       "    </tr>\n",
       "    <tr>\n",
       "      <th>1</th>\n",
       "      <td>in</td>\n",
       "      <td>india</td>\n",
       "      <td>NaN</td>\n",
       "      <td>NaN</td>\n",
       "      <td>NaN</td>\n",
       "      <td>NaN</td>\n",
       "      <td>NaN</td>\n",
       "      <td>chijkbesa_bfyzarphnchafpjnc</td>\n",
       "      <td>16-02-2020</td>\n",
       "      <td>2.0</td>\n",
       "      <td>2.0</td>\n",
       "      <td>3.0</td>\n",
       "      <td>2.0</td>\n",
       "      <td>0.0</td>\n",
       "      <td>0.0</td>\n",
       "    </tr>\n",
       "    <tr>\n",
       "      <th>2</th>\n",
       "      <td>in</td>\n",
       "      <td>india</td>\n",
       "      <td>NaN</td>\n",
       "      <td>NaN</td>\n",
       "      <td>NaN</td>\n",
       "      <td>NaN</td>\n",
       "      <td>NaN</td>\n",
       "      <td>chijkbesa_bfyzarphnchafpjnc</td>\n",
       "      <td>17-02-2020</td>\n",
       "      <td>-1.0</td>\n",
       "      <td>1.0</td>\n",
       "      <td>3.0</td>\n",
       "      <td>1.0</td>\n",
       "      <td>4.0</td>\n",
       "      <td>0.0</td>\n",
       "    </tr>\n",
       "    <tr>\n",
       "      <th>3</th>\n",
       "      <td>in</td>\n",
       "      <td>india</td>\n",
       "      <td>NaN</td>\n",
       "      <td>NaN</td>\n",
       "      <td>NaN</td>\n",
       "      <td>NaN</td>\n",
       "      <td>NaN</td>\n",
       "      <td>chijkbesa_bfyzarphnchafpjnc</td>\n",
       "      <td>18-02-2020</td>\n",
       "      <td>0.0</td>\n",
       "      <td>2.0</td>\n",
       "      <td>4.0</td>\n",
       "      <td>2.0</td>\n",
       "      <td>3.0</td>\n",
       "      <td>0.0</td>\n",
       "    </tr>\n",
       "    <tr>\n",
       "      <th>4</th>\n",
       "      <td>in</td>\n",
       "      <td>india</td>\n",
       "      <td>NaN</td>\n",
       "      <td>NaN</td>\n",
       "      <td>NaN</td>\n",
       "      <td>NaN</td>\n",
       "      <td>NaN</td>\n",
       "      <td>chijkbesa_bfyzarphnchafpjnc</td>\n",
       "      <td>19-02-2020</td>\n",
       "      <td>0.0</td>\n",
       "      <td>2.0</td>\n",
       "      <td>1.0</td>\n",
       "      <td>1.0</td>\n",
       "      <td>4.0</td>\n",
       "      <td>1.0</td>\n",
       "    </tr>\n",
       "  </tbody>\n",
       "</table>\n",
       "</div>"
      ],
      "text/plain": [
       "  country_region_code country_region sub_region_1 sub_region_2  metro_area  \\\n",
       "0                  in          india          NaN          NaN         NaN   \n",
       "1                  in          india          NaN          NaN         NaN   \n",
       "2                  in          india          NaN          NaN         NaN   \n",
       "3                  in          india          NaN          NaN         NaN   \n",
       "4                  in          india          NaN          NaN         NaN   \n",
       "\n",
       "  iso_3166_2_code  census_fips_code                     place_id        date  \\\n",
       "0             NaN               NaN  chijkbesa_bfyzarphnchafpjnc  15-02-2020   \n",
       "1             NaN               NaN  chijkbesa_bfyzarphnchafpjnc  16-02-2020   \n",
       "2             NaN               NaN  chijkbesa_bfyzarphnchafpjnc  17-02-2020   \n",
       "3             NaN               NaN  chijkbesa_bfyzarphnchafpjnc  18-02-2020   \n",
       "4             NaN               NaN  chijkbesa_bfyzarphnchafpjnc  19-02-2020   \n",
       "\n",
       "   recreation  grocery  parks  stations  workplace  home  \n",
       "0         1.0      2.0    3.0       3.0        5.0   0.0  \n",
       "1         2.0      2.0    3.0       2.0        0.0   0.0  \n",
       "2        -1.0      1.0    3.0       1.0        4.0   0.0  \n",
       "3         0.0      2.0    4.0       2.0        3.0   0.0  \n",
       "4         0.0      2.0    1.0       1.0        4.0   1.0  "
      ]
     },
     "execution_count": 72,
     "metadata": {},
     "output_type": "execute_result"
    }
   ],
   "source": [
    "df = df.applymap(lambda s:s.lower() if type(s) == str else s)\n",
    "df.head()"
   ]
  },
  {
   "cell_type": "code",
   "execution_count": 73,
   "metadata": {},
   "outputs": [],
   "source": [
    "l1 = list(df['sub_region_2'].unique())"
   ]
  },
  {
   "cell_type": "code",
   "execution_count": 74,
   "metadata": {},
   "outputs": [
    {
     "data": {
      "text/plain": [
       "[nan,\n",
       " 'north and middle andaman',\n",
       " 'south andaman',\n",
       " 'anantapuram',\n",
       " 'chittoor',\n",
       " 'east godavari',\n",
       " 'guntur',\n",
       " 'krishna',\n",
       " 'kurnool',\n",
       " 'prakasam',\n",
       " 'sri potti sriramulu nellore district',\n",
       " 'srikakulam',\n",
       " 'vishakhapatnam',\n",
       " 'vizianagaram',\n",
       " 'west godavari',\n",
       " 'ysr district',\n",
       " 'east kameng',\n",
       " 'east siang',\n",
       " 'papum pare',\n",
       " 'tawang',\n",
       " 'west kameng',\n",
       " 'baksa',\n",
       " 'barpeta',\n",
       " 'bongaigaon',\n",
       " 'cachar',\n",
       " 'chirang',\n",
       " 'darrang',\n",
       " 'dhemaji',\n",
       " 'dhubri',\n",
       " 'dibrugarh',\n",
       " 'dima hasao',\n",
       " 'goalpara',\n",
       " 'golaghat',\n",
       " 'hailakandi',\n",
       " 'jorhat',\n",
       " 'kamrup',\n",
       " 'kamrup metropolitan',\n",
       " 'karbi anglong',\n",
       " 'karimganj',\n",
       " 'kokrajhar',\n",
       " 'lakhimpur',\n",
       " 'morigaon',\n",
       " 'nagaon',\n",
       " 'nalbari',\n",
       " 'sivasagar',\n",
       " 'sonitpur',\n",
       " 'tinsukia',\n",
       " 'udalguri',\n",
       " 'araria',\n",
       " 'arwal',\n",
       " 'aurangabad',\n",
       " 'banka',\n",
       " 'begusarai',\n",
       " 'bhagalpur',\n",
       " 'bhojpur',\n",
       " 'buxar',\n",
       " 'darbhanga',\n",
       " 'gaya',\n",
       " 'gopalganj',\n",
       " 'jamui',\n",
       " 'jehanabad',\n",
       " 'kaimur',\n",
       " 'katihar',\n",
       " 'khagaria',\n",
       " 'kishanganj',\n",
       " 'lakhisarai',\n",
       " 'madhepura',\n",
       " 'madhubani',\n",
       " 'munger',\n",
       " 'muzaffarpur',\n",
       " 'nalanda',\n",
       " 'nawada',\n",
       " 'pashchim champaran',\n",
       " 'patna',\n",
       " 'purnia',\n",
       " 'purvi champaran',\n",
       " 'rohtas',\n",
       " 'saharsa',\n",
       " 'samastipur',\n",
       " 'saran',\n",
       " 'sheikhpura',\n",
       " 'sheohar',\n",
       " 'siwan',\n",
       " 'supaul',\n",
       " 'vaishali',\n",
       " 'balod',\n",
       " 'baloda bazar',\n",
       " 'balrampur',\n",
       " 'bastar',\n",
       " 'bemetara',\n",
       " 'bijapur',\n",
       " 'bilaspur',\n",
       " 'dantewada',\n",
       " 'dhamtari',\n",
       " 'durg',\n",
       " 'gariaband',\n",
       " 'janjgir-champa',\n",
       " 'jashpur',\n",
       " 'kanker',\n",
       " 'kawardha',\n",
       " 'kondagaon',\n",
       " 'korba',\n",
       " 'koriya',\n",
       " 'mahasamund',\n",
       " 'mungeli',\n",
       " 'narayanpur',\n",
       " 'raigarh',\n",
       " 'raipur',\n",
       " 'rajnandgaon',\n",
       " 'sukma',\n",
       " 'surajpur',\n",
       " 'surguja',\n",
       " 'dadra and nagar haveli',\n",
       " 'daman',\n",
       " 'diu',\n",
       " 'central delhi',\n",
       " 'east delhi',\n",
       " 'new delhi',\n",
       " 'north delhi',\n",
       " 'north east delhi',\n",
       " 'north west delhi',\n",
       " 'shahdara',\n",
       " 'south delhi',\n",
       " 'south east delhi',\n",
       " 'south west delhi',\n",
       " 'west delhi',\n",
       " 'north goa',\n",
       " 'south goa',\n",
       " 'ahmedabad',\n",
       " 'amreli',\n",
       " 'anand',\n",
       " 'aravalli',\n",
       " 'banaskantha',\n",
       " 'bharuch',\n",
       " 'bhavnagar',\n",
       " 'botad',\n",
       " 'chhota udaipur',\n",
       " 'dahod',\n",
       " 'dang',\n",
       " 'devbhoomi dwarka',\n",
       " 'gandhinagar',\n",
       " 'gir somnath',\n",
       " 'jamnagar',\n",
       " 'junagadh',\n",
       " 'kheda',\n",
       " 'kutch',\n",
       " 'mahisagar',\n",
       " 'mehsana',\n",
       " 'morbi',\n",
       " 'narmada',\n",
       " 'navsari',\n",
       " 'panchmahal',\n",
       " 'patan',\n",
       " 'porbandar',\n",
       " 'rajkot',\n",
       " 'sabarkatha',\n",
       " 'surat',\n",
       " 'surendranagar',\n",
       " 'tapi',\n",
       " 'vadodara',\n",
       " 'valsad',\n",
       " 'ambala',\n",
       " 'bhiwani',\n",
       " 'faridabad',\n",
       " 'fatehabad',\n",
       " 'gurgaon',\n",
       " 'hisar',\n",
       " 'jhajjar',\n",
       " 'jind',\n",
       " 'kaithal',\n",
       " 'karnal',\n",
       " 'kurukshetra',\n",
       " 'mahendragarh',\n",
       " 'mewat',\n",
       " 'palwal',\n",
       " 'panchkula',\n",
       " 'panipat',\n",
       " 'rewari',\n",
       " 'rohtak',\n",
       " 'sirsa',\n",
       " 'sonepat',\n",
       " 'yamuna nagar',\n",
       " 'chamba',\n",
       " 'hamirpur',\n",
       " 'kangra',\n",
       " 'kinnaur',\n",
       " 'kullu',\n",
       " 'mandi',\n",
       " 'shimla',\n",
       " 'sirmaur',\n",
       " 'solan',\n",
       " 'una',\n",
       " 'bokaro',\n",
       " 'chatra',\n",
       " 'deoghar',\n",
       " 'dhanbad',\n",
       " 'dumka',\n",
       " 'east singhbhum',\n",
       " 'garhwa',\n",
       " 'giridih',\n",
       " 'godda',\n",
       " 'gumla',\n",
       " 'hazaribagh',\n",
       " 'jamtara',\n",
       " 'khunti',\n",
       " 'koderma',\n",
       " 'latehar',\n",
       " 'lohardaga',\n",
       " 'pakur',\n",
       " 'palamu',\n",
       " 'ramgarh',\n",
       " 'ranchi',\n",
       " 'sahibganj',\n",
       " 'seraikela kharsawan',\n",
       " 'simdega',\n",
       " 'west singhbhum',\n",
       " 'bagalkot',\n",
       " 'bangalore rural',\n",
       " 'bangalore urban',\n",
       " 'belagavi',\n",
       " 'bellary',\n",
       " 'bidar',\n",
       " 'chamarajanagar',\n",
       " 'chikballapur',\n",
       " 'chikkamagaluru',\n",
       " 'chitradurga',\n",
       " 'dakshina kannada',\n",
       " 'davanagere',\n",
       " 'dharwad',\n",
       " 'gadag',\n",
       " 'gulbarga',\n",
       " 'hassan',\n",
       " 'haveri',\n",
       " 'kodagu',\n",
       " 'kolar',\n",
       " 'koppal',\n",
       " 'mandya',\n",
       " 'mysuru',\n",
       " 'raichur',\n",
       " 'ramanagara',\n",
       " 'shimoga',\n",
       " 'tumkur',\n",
       " 'udupi',\n",
       " 'uttara kannada',\n",
       " 'yadgir',\n",
       " 'alappuzha',\n",
       " 'ernakulam',\n",
       " 'idukki',\n",
       " 'kannur',\n",
       " 'kasaragod',\n",
       " 'kollam',\n",
       " 'kottayam',\n",
       " 'kozhikode',\n",
       " 'mahe',\n",
       " 'malappuram',\n",
       " 'palakkad',\n",
       " 'pathanamthitta',\n",
       " 'thiruvananthapuram',\n",
       " 'thrissur',\n",
       " 'wayanad',\n",
       " 'lakshadweep',\n",
       " 'agar',\n",
       " 'alirajpur',\n",
       " 'anuppur',\n",
       " 'ashoknagar',\n",
       " 'balaghat',\n",
       " 'barwani',\n",
       " 'betul',\n",
       " 'bhind',\n",
       " 'bhopal',\n",
       " 'burhanpur',\n",
       " 'chhatarpur',\n",
       " 'chhindwara',\n",
       " 'damoh',\n",
       " 'datia',\n",
       " 'dewas',\n",
       " 'dhar',\n",
       " 'dindori',\n",
       " 'guna',\n",
       " 'gwalior',\n",
       " 'harda',\n",
       " 'hoshangabad',\n",
       " 'indore',\n",
       " 'jabalpur',\n",
       " 'jhabua',\n",
       " 'katni',\n",
       " 'khandwa',\n",
       " 'khargone',\n",
       " 'mandla',\n",
       " 'mandsaur',\n",
       " 'morena',\n",
       " 'narsinghpur',\n",
       " 'neemuch',\n",
       " 'panna',\n",
       " 'raisen',\n",
       " 'rajgarh',\n",
       " 'ratlam',\n",
       " 'rewa',\n",
       " 'sagar',\n",
       " 'satna',\n",
       " 'sehore',\n",
       " 'seoni',\n",
       " 'shahdol',\n",
       " 'shajapur',\n",
       " 'sheopur',\n",
       " 'shivpuri',\n",
       " 'sidhi',\n",
       " 'singrauli',\n",
       " 'tikamgarh',\n",
       " 'ujjain',\n",
       " 'umaria',\n",
       " 'vidisha',\n",
       " 'ahmednagar',\n",
       " 'akola',\n",
       " 'amravati',\n",
       " 'beed',\n",
       " 'bhandara',\n",
       " 'buldhana',\n",
       " 'chandrapur',\n",
       " 'dhule',\n",
       " 'gadchiroli',\n",
       " 'gondia',\n",
       " 'hingoli',\n",
       " 'jalgaon',\n",
       " 'jalna',\n",
       " 'kolhapur',\n",
       " 'latur',\n",
       " 'mumbai',\n",
       " 'mumbai suburban',\n",
       " 'nagpur',\n",
       " 'nanded',\n",
       " 'nandurbar',\n",
       " 'nashik',\n",
       " 'osmanabad',\n",
       " 'palghar',\n",
       " 'parbhani',\n",
       " 'pune',\n",
       " 'raigad',\n",
       " 'ratnagiri',\n",
       " 'sangli',\n",
       " 'satara',\n",
       " 'sindhudurg',\n",
       " 'solapur',\n",
       " 'thane',\n",
       " 'wardha',\n",
       " 'washim',\n",
       " 'yavatmal',\n",
       " 'bishnupur',\n",
       " 'chandel',\n",
       " 'churachandpur',\n",
       " 'imphal east',\n",
       " 'imphal west',\n",
       " 'senapati',\n",
       " 'tamenglong',\n",
       " 'thoubal',\n",
       " 'ukhrul',\n",
       " 'east garo hills',\n",
       " 'east jaintia hills',\n",
       " 'east khasi hills',\n",
       " 'north garo hills',\n",
       " 'ri-bhoi',\n",
       " 'south garo hills',\n",
       " 'west garo hills',\n",
       " 'west jaintia hills',\n",
       " 'west khasi hills',\n",
       " 'aizawl',\n",
       " 'champhai',\n",
       " 'kolasib',\n",
       " 'lawngtlai',\n",
       " 'lunglei',\n",
       " 'mamit',\n",
       " 'saiha',\n",
       " 'serchhip',\n",
       " 'dimapur',\n",
       " 'kohima',\n",
       " 'mokokchung',\n",
       " 'mon',\n",
       " 'peren',\n",
       " 'phek',\n",
       " 'tuensang',\n",
       " 'wokha',\n",
       " 'zunheboto',\n",
       " 'angul',\n",
       " 'balangir',\n",
       " 'balasore',\n",
       " 'bargarh',\n",
       " 'bhadrak',\n",
       " 'boudh',\n",
       " 'cuttack',\n",
       " 'deogarh',\n",
       " 'dhenkanal',\n",
       " 'gajapati',\n",
       " 'ganjam',\n",
       " 'jagatsinghpur',\n",
       " 'jajpur',\n",
       " 'jharsuguda',\n",
       " 'kalahandi',\n",
       " 'kandhamal',\n",
       " 'kendrapara',\n",
       " 'kendujhar',\n",
       " 'khordha',\n",
       " 'koraput',\n",
       " 'malkangiri',\n",
       " 'mayurbhanj',\n",
       " 'nabarangpur',\n",
       " 'nayagarh',\n",
       " 'nuapada',\n",
       " 'puri',\n",
       " 'rayagada',\n",
       " 'sambalpur',\n",
       " 'subarnapur',\n",
       " 'sundargarh',\n",
       " 'karaikal',\n",
       " 'pondicherry',\n",
       " 'amritsar',\n",
       " 'barnala',\n",
       " 'bathinda',\n",
       " 'faridkot',\n",
       " 'fatehgarh sahib',\n",
       " 'fazilka',\n",
       " 'ferozepur',\n",
       " 'gurdaspur',\n",
       " 'hoshiarpur',\n",
       " 'jalandhar',\n",
       " 'kapurthala',\n",
       " 'ludhiana',\n",
       " 'mansa',\n",
       " 'moga',\n",
       " 'pathankot',\n",
       " 'patiala',\n",
       " 'rupnagar',\n",
       " 'sahibzada ajit singh nagar',\n",
       " 'sangrur',\n",
       " 'shaheed bhagat singh nagar',\n",
       " 'sri muktsar sahib',\n",
       " 'tarn taran',\n",
       " 'ajmer',\n",
       " 'alwar',\n",
       " 'banswara',\n",
       " 'baran',\n",
       " 'barmer',\n",
       " 'bharatpur',\n",
       " 'bhilwara',\n",
       " 'bikaner',\n",
       " 'bundi',\n",
       " 'chittaurgarh',\n",
       " 'churu',\n",
       " 'dausa',\n",
       " 'dhaulpur',\n",
       " 'dungarpur',\n",
       " 'hanumangarh',\n",
       " 'jaipur',\n",
       " 'jaisalmer',\n",
       " 'jalore',\n",
       " 'jhalawar',\n",
       " 'jhunjhunu',\n",
       " 'jodhpur',\n",
       " 'karauli',\n",
       " 'kota',\n",
       " 'nagaur',\n",
       " 'pali',\n",
       " 'pratapgarh',\n",
       " 'rajsamand',\n",
       " 'sawai madhopur',\n",
       " 'sikar',\n",
       " 'sirohi',\n",
       " 'sri ganganagar',\n",
       " 'tonk',\n",
       " 'udaipur',\n",
       " 'east sikkim',\n",
       " 'north sikkim',\n",
       " 'south sikkim',\n",
       " 'west sikkim',\n",
       " 'ariyalur',\n",
       " 'chennai',\n",
       " 'coimbatore',\n",
       " 'cuddalore',\n",
       " 'dharmapuri',\n",
       " 'dindigul',\n",
       " 'erode',\n",
       " 'kanchipuram',\n",
       " 'kanyakumari',\n",
       " 'karur',\n",
       " 'krishnagiri',\n",
       " 'madurai',\n",
       " 'nagapattinam',\n",
       " 'namakkal',\n",
       " 'nilgiris',\n",
       " 'perambalur',\n",
       " 'pudukkottai',\n",
       " 'ramanathapuram',\n",
       " 'salem',\n",
       " 'sivaganga',\n",
       " 'thanjavur',\n",
       " 'theni',\n",
       " 'thiruvarur',\n",
       " 'thoothukudi',\n",
       " 'tiruchirappalli',\n",
       " 'tirunelveli',\n",
       " 'tiruppur',\n",
       " 'tiruvallur',\n",
       " 'tiruvannamalai',\n",
       " 'vellore',\n",
       " 'villupuram',\n",
       " 'virudhunagar',\n",
       " 'adilabad',\n",
       " 'hyderabad',\n",
       " 'karimnagar',\n",
       " 'khammam',\n",
       " 'mahabubnagar',\n",
       " 'medak',\n",
       " 'nalgonda',\n",
       " 'nizamabad',\n",
       " 'ranga reddy',\n",
       " 'warangal',\n",
       " 'dhalai',\n",
       " 'gomati',\n",
       " 'khowai',\n",
       " 'north tripura',\n",
       " 'sipahijala',\n",
       " 'south tripura',\n",
       " 'unakoti',\n",
       " 'west tripura',\n",
       " 'agra',\n",
       " 'aligarh',\n",
       " 'ambedkar nagar',\n",
       " 'amethi',\n",
       " 'amroha',\n",
       " 'auraiya',\n",
       " 'azamgarh',\n",
       " 'badaun',\n",
       " 'bagpat',\n",
       " 'bahraich',\n",
       " 'ballia',\n",
       " 'banda',\n",
       " 'barabanki',\n",
       " 'bareilly',\n",
       " 'basti',\n",
       " 'bijnor',\n",
       " 'bulandshahar',\n",
       " 'chandauli',\n",
       " 'chitrakoot',\n",
       " 'deoria',\n",
       " 'etah',\n",
       " 'etawah',\n",
       " 'faizabad',\n",
       " 'farrukhabad',\n",
       " 'fatehpur',\n",
       " 'firozabad',\n",
       " 'gautam buddh nagar',\n",
       " 'ghaziabad',\n",
       " 'ghazipur',\n",
       " 'gonda',\n",
       " 'gorakhpur',\n",
       " 'hapur',\n",
       " 'hardoi',\n",
       " 'hathras',\n",
       " 'jalaun',\n",
       " 'jaunpur',\n",
       " 'jhansi',\n",
       " 'kannauj',\n",
       " 'kanpur dehat',\n",
       " 'kanpur nagar',\n",
       " 'kanshi ram nagar',\n",
       " 'kaushambi',\n",
       " 'kushinagar',\n",
       " 'lakhimpur kheri',\n",
       " 'lalitpur',\n",
       " 'lucknow',\n",
       " 'maharajganj',\n",
       " 'mahoba',\n",
       " 'mainpuri',\n",
       " 'mathura',\n",
       " 'mau',\n",
       " 'meerut',\n",
       " 'mirzapur',\n",
       " 'moradabad',\n",
       " 'muzaffarnagar',\n",
       " 'pilibhit',\n",
       " 'prayagraj',\n",
       " 'rae bareli',\n",
       " 'rampur',\n",
       " 'saharanpur',\n",
       " 'sambhal',\n",
       " 'sant kabir nagar',\n",
       " 'sant ravidas nagar',\n",
       " 'shahjahanpur',\n",
       " 'shamli',\n",
       " 'shrawasti',\n",
       " 'siddharthnagar',\n",
       " 'sitapur',\n",
       " 'sonbhadra',\n",
       " 'sultanpur',\n",
       " 'unnao',\n",
       " 'varanasi',\n",
       " 'almora',\n",
       " 'bageshwar',\n",
       " 'chamoli',\n",
       " 'champawat',\n",
       " 'dehradun',\n",
       " 'haridwar',\n",
       " 'nainital',\n",
       " 'pauri garhwal',\n",
       " 'pithoragarh',\n",
       " 'rudraprayag',\n",
       " 'tehri garhwal',\n",
       " 'udham singh nagar',\n",
       " 'uttarkashi',\n",
       " 'alipurduar',\n",
       " 'bankura',\n",
       " 'bardhaman',\n",
       " 'birbhum',\n",
       " 'cooch behar',\n",
       " 'dakshin dinajpur',\n",
       " 'darjeeling',\n",
       " 'hooghly',\n",
       " 'howrah',\n",
       " 'jalpaiguri',\n",
       " 'kolkata',\n",
       " 'malda',\n",
       " 'murshidabad',\n",
       " 'nadia',\n",
       " 'north 24 parganas',\n",
       " 'purba medinipur',\n",
       " 'purulia',\n",
       " 'south 24 parganas',\n",
       " 'uttar dinajpur',\n",
       " 'west medinipur']"
      ]
     },
     "execution_count": 74,
     "metadata": {},
     "output_type": "execute_result"
    }
   ],
   "source": [
    "l1"
   ]
  },
  {
   "cell_type": "code",
   "execution_count": 76,
   "metadata": {},
   "outputs": [],
   "source": [
    "(val,num) = main_df.shape\n",
    "for i in range(0,val):\n",
    "    s = main_df.loc[i,'City']\n",
    "    df_temp_save = pd.DataFrame(columns = ['Date', 'Mobility'])\n",
    "    if(s in l1):\n",
    "        pop = main_df.loc[i,'Population']\n",
    "        pop = (pop)\n",
    "        pop = pop.reshape(-1,1)\n",
    "        H = model_2.predict(pop)[0]\n",
    "        W = model_3.predict(pop)[0]\n",
    "        S = model_4.predict(pop)[0]\n",
    "        O = model_5.predict(pop)[0]\n",
    "        temp_df = df[df['sub_region_2'] == s]\n",
    "        df_temp_save['Date'] = temp_df['date']\n",
    "        df_temp_save['Mobility'] = ((100 + temp_df['workplace'])*(S + W) + (100 + temp_df['home'])*(H) + (300 + temp_df['recreation']+temp_df['parks']+temp_df['grocery'])*O/3)/100\n",
    "        vars1 = main_df.loc[i,'State']\n",
    "        st = \"C:\\\\Users\\\\varun\\\\Desktop\\\\Udacity\\\\UGP\\\\Mobility_city\\\\\" + vars1 + \"_\" + s + \".csv\"\n",
    "        df_temp_save.to_csv(st, index=False)"
   ]
  },
  {
   "cell_type": "code",
   "execution_count": 82,
   "metadata": {},
   "outputs": [
    {
     "data": {
      "text/html": [
       "<div>\n",
       "<style scoped>\n",
       "    .dataframe tbody tr th:only-of-type {\n",
       "        vertical-align: middle;\n",
       "    }\n",
       "\n",
       "    .dataframe tbody tr th {\n",
       "        vertical-align: top;\n",
       "    }\n",
       "\n",
       "    .dataframe thead th {\n",
       "        text-align: right;\n",
       "    }\n",
       "</style>\n",
       "<table border=\"1\" class=\"dataframe\">\n",
       "  <thead>\n",
       "    <tr style=\"text-align: right;\">\n",
       "      <th></th>\n",
       "      <th>Date</th>\n",
       "      <th>Mobility</th>\n",
       "    </tr>\n",
       "  </thead>\n",
       "  <tbody>\n",
       "    <tr>\n",
       "      <th>0</th>\n",
       "      <td>15-02-2020</td>\n",
       "      <td>1.145952e+08</td>\n",
       "    </tr>\n",
       "    <tr>\n",
       "      <th>1</th>\n",
       "      <td>16-02-2020</td>\n",
       "      <td>1.136584e+08</td>\n",
       "    </tr>\n",
       "    <tr>\n",
       "      <th>2</th>\n",
       "      <td>17-02-2020</td>\n",
       "      <td>1.157832e+08</td>\n",
       "    </tr>\n",
       "    <tr>\n",
       "      <th>3</th>\n",
       "      <td>18-02-2020</td>\n",
       "      <td>1.156359e+08</td>\n",
       "    </tr>\n",
       "    <tr>\n",
       "      <th>4</th>\n",
       "      <td>19-02-2020</td>\n",
       "      <td>1.154787e+08</td>\n",
       "    </tr>\n",
       "  </tbody>\n",
       "</table>\n",
       "</div>"
      ],
      "text/plain": [
       "         Date      Mobility\n",
       "0  15-02-2020  1.145952e+08\n",
       "1  16-02-2020  1.136584e+08\n",
       "2  17-02-2020  1.157832e+08\n",
       "3  18-02-2020  1.156359e+08\n",
       "4  19-02-2020  1.154787e+08"
      ]
     },
     "execution_count": 82,
     "metadata": {},
     "output_type": "execute_result"
    }
   ],
   "source": [
    "new_df = pd.read_csv(r\"C:\\Users\\varun\\Desktop\\Udacity\\UGP\\Mobility_city\\gj_ahmedabad.csv\")\n",
    "new_df.head()"
   ]
  },
  {
   "cell_type": "code",
   "execution_count": 83,
   "metadata": {},
   "outputs": [],
   "source": [
    "new_df[\"Date\"] = pd.to_datetime(new_df[\"Date\"])"
   ]
  },
  {
   "cell_type": "code",
   "execution_count": 84,
   "metadata": {},
   "outputs": [],
   "source": [
    "ls = []\n",
    "(val,num) = new_df.shape\n",
    "for i in range(0,val):\n",
    "    temp = new_df.loc[i,'Mobility']\n",
    "    count = 1\n",
    "    if(i > 0):\n",
    "        temp += new_df.loc[i-1,'Mobility']\n",
    "        count += 1\n",
    "    if(i > 1):\n",
    "        temp += new_df.loc[i-2,'Mobility']\n",
    "        count += 1\n",
    "    if(i > 2):\n",
    "        temp += new_df.loc[i-3,'Mobility']\n",
    "        count += 1\n",
    "    if(i < val-1):\n",
    "        temp += new_df.loc[i+1,'Mobility']\n",
    "        count += 1\n",
    "    if(i < val-2):\n",
    "        temp += new_df.loc[i+2,'Mobility']\n",
    "        count += 1\n",
    "    if(i < val-3):\n",
    "        temp += new_df.loc[i+3,'Mobility']\n",
    "        count += 1\n",
    "    ls.append(temp/count)\n",
    "new_df['Smooth_contact'] = ls"
   ]
  },
  {
   "cell_type": "code",
   "execution_count": 85,
   "metadata": {},
   "outputs": [
    {
     "data": {
      "text/html": [
       "<div>\n",
       "<style scoped>\n",
       "    .dataframe tbody tr th:only-of-type {\n",
       "        vertical-align: middle;\n",
       "    }\n",
       "\n",
       "    .dataframe tbody tr th {\n",
       "        vertical-align: top;\n",
       "    }\n",
       "\n",
       "    .dataframe thead th {\n",
       "        text-align: right;\n",
       "    }\n",
       "</style>\n",
       "<table border=\"1\" class=\"dataframe\">\n",
       "  <thead>\n",
       "    <tr style=\"text-align: right;\">\n",
       "      <th></th>\n",
       "      <th>Date</th>\n",
       "      <th>Mobility</th>\n",
       "      <th>Smooth_contact</th>\n",
       "    </tr>\n",
       "  </thead>\n",
       "  <tbody>\n",
       "    <tr>\n",
       "      <th>0</th>\n",
       "      <td>2020-02-15</td>\n",
       "      <td>1.145952e+08</td>\n",
       "      <td>1.149182e+08</td>\n",
       "    </tr>\n",
       "    <tr>\n",
       "      <th>1</th>\n",
       "      <td>2020-02-16</td>\n",
       "      <td>1.136584e+08</td>\n",
       "      <td>1.150303e+08</td>\n",
       "    </tr>\n",
       "    <tr>\n",
       "      <th>2</th>\n",
       "      <td>2020-02-17</td>\n",
       "      <td>1.157832e+08</td>\n",
       "      <td>1.153337e+08</td>\n",
       "    </tr>\n",
       "    <tr>\n",
       "      <th>3</th>\n",
       "      <td>2020-02-18</td>\n",
       "      <td>1.156359e+08</td>\n",
       "      <td>1.142686e+08</td>\n",
       "    </tr>\n",
       "    <tr>\n",
       "      <th>4</th>\n",
       "      <td>2020-02-19</td>\n",
       "      <td>1.154787e+08</td>\n",
       "      <td>1.140458e+08</td>\n",
       "    </tr>\n",
       "  </tbody>\n",
       "</table>\n",
       "</div>"
      ],
      "text/plain": [
       "        Date      Mobility  Smooth_contact\n",
       "0 2020-02-15  1.145952e+08    1.149182e+08\n",
       "1 2020-02-16  1.136584e+08    1.150303e+08\n",
       "2 2020-02-17  1.157832e+08    1.153337e+08\n",
       "3 2020-02-18  1.156359e+08    1.142686e+08\n",
       "4 2020-02-19  1.154787e+08    1.140458e+08"
      ]
     },
     "execution_count": 85,
     "metadata": {},
     "output_type": "execute_result"
    }
   ],
   "source": [
    "new_df.head()"
   ]
  },
  {
   "cell_type": "code",
   "execution_count": 86,
   "metadata": {},
   "outputs": [
    {
     "data": {
      "text/plain": [
       "<matplotlib.axes._subplots.AxesSubplot at 0x2511a5dfac8>"
      ]
     },
     "execution_count": 86,
     "metadata": {},
     "output_type": "execute_result"
    },
    {
     "data": {
      "image/png": "[encoded data removed]",
      "text/plain": [
       "<Figure size 864x576 with 1 Axes>"
      ]
     },
     "metadata": {
      "needs_background": "light"
     },
     "output_type": "display_data"
    }
   ],
   "source": [
    "plt.figure(figsize = (12,8))\n",
    "sns.lineplot(data = new_df[\"Smooth_contact\"])"
   ]
  },
  {
   "cell_type": "code",
   "execution_count": null,
   "metadata": {},
   "outputs": [],
   "source": []
  }
 ],
 "metadata": {
  "kernelspec": {
   "display_name": "Python 3",
   "language": "python",
   "name": "python3"
  },
  "language_info": {
   "codemirror_mode": {
    "name": "ipython",
    "version": 3
   },
   "file_extension": ".py",
   "mimetype": "text/x-python",
   "name": "python",
   "nbconvert_exporter": "python",
   "pygments_lexer": "ipython3",
   "version": "3.7.7"
  }
 },
 "nbformat": 4,
 "nbformat_minor": 4
}
